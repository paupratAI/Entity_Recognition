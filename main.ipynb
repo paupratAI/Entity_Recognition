{
 "cells": [
  {
   "cell_type": "markdown",
   "metadata": {},
   "source": [
    "# Pràctica 3 - PLH"
   ]
  },
  {
   "cell_type": "markdown",
   "metadata": {},
   "source": [
    "### Realitzada pels alumnes Lluc Furriols i Pau Prat Moreno"
   ]
  },
  {
   "cell_type": "code",
   "execution_count": 72,
   "metadata": {},
   "outputs": [
    {
     "data": {
      "text/plain": [
       "'\\nimport os \\nf = open(\"/dev/null\", \"w\")\\nos.dup2(f.fileno(), 2)\\nf.close()\\n\\nimport nltk\\nimport ssl\\n\\ntry:\\n    _create_unverified_https_context = ssl._create_unverified_context\\nexcept AttributeError:\\n    pass\\nelse:\\n    ssl._create_default_https_context = _create_unverified_https_context\\n\\nnltk.download()\\n'"
      ]
     },
     "execution_count": 72,
     "metadata": {},
     "output_type": "execute_result"
    }
   ],
   "source": [
    "'''\n",
    "import os \n",
    "f = open(\"/dev/null\", \"w\")\n",
    "os.dup2(f.fileno(), 2)\n",
    "f.close()\n",
    "\n",
    "import nltk\n",
    "import ssl\n",
    "\n",
    "try:\n",
    "    _create_unverified_https_context = ssl._create_unverified_context\n",
    "except AttributeError:\n",
    "    pass\n",
    "else:\n",
    "    ssl._create_default_https_context = _create_unverified_https_context\n",
    "\n",
    "nltk.download()\n",
    "'''"
   ]
  },
  {
   "cell_type": "markdown",
   "metadata": {},
   "source": [
    "### Carreguem les dades"
   ]
  },
  {
   "cell_type": "code",
   "execution_count": 73,
   "metadata": {},
   "outputs": [
    {
     "name": "stderr",
     "output_type": "stream",
     "text": [
      "[nltk_data] Downloading package conll2002 to\n",
      "[nltk_data]     C:\\Users\\Usuario\\AppData\\Roaming\\nltk_data...\n",
      "[nltk_data]   Package conll2002 is already up-to-date!\n"
     ]
    }
   ],
   "source": [
    "import nltk\n",
    "nltk.download('punkt', quiet=True) # Tokenitzador\n",
    "nltk.download('averaged_perceptron_tagger', quiet=True) # Etiquetador POS\n",
    "nltk.download('maxent_ne_chunker', quiet=True) # Etiquetador Entitats Anomenades\n",
    "nltk.download('words', quiet=True)\n",
    "nltk.download('conll2002')\n",
    "from nltk.corpus import conll2002\n",
    "\n",
    "train_esp = conll2002.iob_sents('esp.train') # Train, \n",
    "val_esp = conll2002.iob_sents('esp.testa') # Val\n",
    "test_esp = conll2002.iob_sents('esp.testb') # Test\n",
    "\n",
    "train_ned = conll2002.iob_sents('ned.train') # Train\n",
    "val_ned = conll2002.iob_sents('ned.testa') # Val\n",
    "test_ned = conll2002.iob_sents('ned.testb') # Test"
   ]
  },
  {
   "cell_type": "markdown",
   "metadata": {},
   "source": [
    "### Funcions essencials"
   ]
  },
  {
   "cell_type": "code",
   "execution_count": 74,
   "metadata": {},
   "outputs": [],
   "source": [
    "def get_token(sequence):\n",
    "    \"\"\"\n",
    "    Retorna una llista de tokens.\n",
    "    \"\"\"\n",
    "    return [[(token) for token, pos, entity in sentence] for sentence in sequence]\n",
    "\n",
    "def get_token_POS(sequence):\n",
    "    \"\"\"\n",
    "    Retorna una llista de tokens i el seu POS.\n",
    "    \"\"\"\n",
    "    return [[(token, pos) for token, pos, entity in sentence] for sentence in sequence]\n",
    "\n",
    "def get_token_entity(sequence):\n",
    "    \"\"\"\n",
    "    Retorna una llista de tokens i les seves entitats.\n",
    "    \"\"\"\n",
    "    return [[(token, entity) for token, pos, entity in sentence] for sentence in sequence]"
   ]
  },
  {
   "cell_type": "code",
   "execution_count": 75,
   "metadata": {},
   "outputs": [],
   "source": [
    "def extract_entities(tagged_words, encoding='BIO'):\n",
    "    \"\"\"\n",
    "    Extreu les entitats d'una llista de paraules etiquetades segons l'encoding especificat.\n",
    "    \n",
    "    Arguments:\n",
    "        tagged_words: Una llista de tuples (word, tag), on 'word' és una paraula del text i 'tag' és la seva etiqueta.\n",
    "        encoding: El tipus de codificació utilitzat per les etiquetes ('BIO', 'BIOW', 'IO').\n",
    "        \n",
    "    Retorna:\n",
    "        Una llista de tuples (index_inicial, index_final, etiqueta) que representen les entitats trobades.\n",
    "    \"\"\"\n",
    "    entities = []  # Llista on es guardaran les entitats trobades\n",
    "    current_entity = []  # Guarda les paraules de l'entitat actual\n",
    "    current_type = None  # Tipus de l'entitat actual\n",
    "    current_start_index = None  # Índex d'inici de l'entitat actual\n",
    "\n",
    "    for index, (word, tag) in enumerate(tagged_words):\n",
    "        # Determina el tipus de tag\n",
    "        tag_type = None if tag == 'O' else tag[2:]\n",
    "        # Obté el prefix del tag\n",
    "        tag_prefix = tag[0] if tag != 'O' else None\n",
    "\n",
    "        # Finalitza l'entitat actual si es troba un tag 'O' o si canvia el tipus d'entitat\n",
    "        if tag == 'O' or tag_prefix not in ['B', 'I', 'W'] or (tag_prefix == 'I' and tag_type != current_type):\n",
    "            if current_entity:\n",
    "                entities.append((current_start_index, index - 1, current_type))\n",
    "                current_entity = []\n",
    "                current_type = None\n",
    "        if tag == 'O':\n",
    "            continue\n",
    "\n",
    "        # Gestiona els canvis d'entitat segons l'encoding\n",
    "        if encoding == 'IO' and tag_type != current_type:\n",
    "            if current_entity:\n",
    "                entities.append((current_start_index, index - 1, current_type))\n",
    "            current_entity = [word]\n",
    "            current_start_index = index\n",
    "            current_type = tag_type\n",
    "        elif tag_prefix in ['B', 'W']:\n",
    "            if current_entity:\n",
    "                entities.append((current_start_index, index - 1, current_type))\n",
    "            current_entity = [word]\n",
    "            current_start_index = index\n",
    "            current_type = tag_type\n",
    "            if tag_prefix == 'W':\n",
    "                # Si el tag és 'W-', afegeix immediatament com a entitat de paraula única\n",
    "                entities.append((current_start_index, index, current_type))\n",
    "                current_entity = []\n",
    "                current_type = None\n",
    "        elif tag_prefix == 'I' and current_type == tag_type:\n",
    "            current_entity.append(word)\n",
    "\n",
    "    # Afegeix la darrera entitat si encara hi ha una pendent\n",
    "    if current_entity:\n",
    "        entities.append((current_start_index, index, current_type))\n",
    "\n",
    "    return entities"
   ]
  },
  {
   "cell_type": "code",
   "execution_count": 76,
   "metadata": {},
   "outputs": [],
   "source": [
    "def evaluate_entities(true_entities, pred_entities):\n",
    "    \"\"\"\n",
    "    Avaluació de les entitats reconegudes comparant conjunts d'entitats.\n",
    "\n",
    "    Args:\n",
    "    true_entities (list): Llista de tuples representant les entitats reals (start, end, type).\n",
    "    pred_entities (list): Llista de tuples representant les entitats predites (start, end, type).\n",
    "\n",
    "    Returns:\n",
    "    dict: Un diccionari amb les mètriques 'precision', 'recall', i 'f1_score'.\n",
    "    \"\"\"\n",
    "    true_positives = 0\n",
    "    false_positives = 0\n",
    "    false_negatives = 0\n",
    "\n",
    "    for true_sent, pred_sent in zip(true_entities, pred_entities):\n",
    "        true_set = set(true_sent)\n",
    "        pred_set = set(pred_sent)\n",
    "\n",
    "        true_positives += len(true_set & pred_set)\n",
    "        false_positives += len(pred_set - true_set)\n",
    "        false_negatives += len(true_set - pred_set)\n",
    "\n",
    "    precisio = true_positives / (true_positives + false_positives) if true_positives + false_positives > 0 else 0\n",
    "    recall = true_positives / (true_positives + false_negatives) if true_positives + false_negatives > 0 else 0\n",
    "    f1_score = 2 * precisio * recall / (precisio + recall) if (precisio + recall) > 0 else 0\n",
    "\n",
    "    # Arrodonim els valors a 3 decimals\n",
    "    precisio, recall, f1_score= round(precisio, 3), round(recall, 3), round(f1_score, 3)\n",
    "\n",
    "    return {\n",
    "        'precisio': precisio,\n",
    "        'recall': recall,\n",
    "        'f1_score': f1_score\n",
    "    }\n",
    "    "
   ]
  },
  {
   "cell_type": "markdown",
   "metadata": {},
   "source": [
    "### Models predictor de  postags"
   ]
  },
  {
   "cell_type": "code",
   "execution_count": 77,
   "metadata": {},
   "outputs": [],
   "source": [
    "from crf import *\n",
    "import re\n",
    "import string\n",
    "\n",
    "class FeatureGetterPOS:\n",
    "    def __init__(self):\n",
    "        # Compila un patró regex per detectar dígits\n",
    "        self._pattern = re.compile(r\"\\d\")\n",
    "\n",
    "    def has_digit(self, token):\n",
    "        \"\"\"\n",
    "        Comprova si el token conté algun dígit.\n",
    "        \"\"\"\n",
    "        return any(char.isdigit() for char in token)\n",
    "\n",
    "    def has_punctuation(self, token):\n",
    "        \"\"\"\n",
    "        Comprova si el token conté algun signe de puntuació.\n",
    "        \"\"\"\n",
    "        return any(char in string.punctuation for char in token)\n",
    "\n",
    "    def get_prefix(self, token, n=3):\n",
    "        \"\"\"\n",
    "        Prefix del token.\n",
    "        \"\"\"\n",
    "        return token[:n] if len(token) > n else token\n",
    "\n",
    "    def get_suffix(self, token, n=3):\n",
    "        \"\"\"\n",
    "        Sufix del token.\n",
    "        \"\"\"\n",
    "        return token[-n:] if len(token) > n else token\n",
    "    \n",
    "\n",
    "    def get_features(self, tokens, index):\n",
    "        \"\"\"\n",
    "        Obté les característiques del token.\n",
    "        \"\"\"\n",
    "        token = tokens[index]\n",
    "        features = [\"WORD_\" + token]\n",
    "\n",
    "        if token[0].isupper():\n",
    "            features.append(\"CAPITALIZATION\")\n",
    "\n",
    "        if self.has_digit(token):\n",
    "            features.append(\"HAS_NUM\")\n",
    "\n",
    "        if self.has_punctuation(token):\n",
    "            features.append(\"PUNCTUATION\")\n",
    "            \n",
    "        features.extend([\"SUF_\" + self.get_suffix(token, n) for n in range(1, 4) if len(token) >= n])\n",
    "        features.extend([\"PRE_\" + self.get_prefix(token, n) for n in range(1, 4) if len(token) >= n])\n",
    "        if index > 0:\n",
    "            prev_token = tokens[index - 1]\n",
    "            features.append(\"PREV_WORD_\" + prev_token)\n",
    "        if index < len(tokens) - 1:\n",
    "            next_token = tokens[index + 1]\n",
    "            features.append(\"NEXT_WORD_\" + next_token)\n",
    "        return features"
   ]
  },
  {
   "cell_type": "markdown",
   "metadata": {},
   "source": [
    "IMPORTANT: La següent cel·la de codi és computacionalment costosa d'executar, és per això que a la cel·la que es troba a continuació carreguem els models ja entrenats prèviament, i així estalviar-nos el temps d'execució que comporta tornar a entrenar els models ."
   ]
  },
  {
   "cell_type": "code",
   "execution_count": 78,
   "metadata": {},
   "outputs": [
    {
     "name": "stdout",
     "output_type": "stream",
     "text": [
      "Model per esp entrenat i guardat com model.crf.taggerPOS_esp\n",
      "Model per ned entrenat i guardat com model.crf.taggerPOS_ned\n"
     ]
    }
   ],
   "source": [
    "'''\n",
    "from nltk.tag import CRFTagger\n",
    "\n",
    "# Diccionari amb les dades d'entrenament per cada idioma\n",
    "train_data = {\n",
    "    'esp': train_esp,\n",
    "    'ned': train_ned\n",
    "}\n",
    "\n",
    "for lang in ['esp', 'ned']:\n",
    "    # Obtenim les dades d'entrenament amb les etiquetes POS\n",
    "    train_lang_pos = get_token_POS(train_data[lang])\n",
    "\n",
    "    # Creem i configurem el model\n",
    "    feature_getter_pos = FeatureGetterPOS() \n",
    "    ct_POS = CRFTagger(feature_func=feature_getter_pos.get_features)\n",
    "\n",
    "    # Entrenem el model\n",
    "    model_filename = f'model.crf.taggerPOS_{lang}'\n",
    "    ct_POS.train(train_lang_pos, model_filename)  \n",
    "\n",
    "    print(f'Model per {lang} entrenat i guardat com {model_filename}')\n",
    "'''"
   ]
  },
  {
   "cell_type": "code",
   "execution_count": 79,
   "metadata": {},
   "outputs": [],
   "source": [
    "from nltk.tag import CRFTagger\n",
    "\n",
    "# Carreguem i configurem un CRFTagger per cada idioma\n",
    "feature_getter_pos = FeatureGetterPOS()\n",
    "\n",
    "ct_POS_esp = CRFTagger(feature_func=feature_getter_pos.get_features)\n",
    "ct_POS_esp.set_model_file('model.crf.taggerPOS_esp')\n",
    "\n",
    "ct_POS_ned = CRFTagger(feature_func=feature_getter_pos.get_features)\n",
    "ct_POS_ned.set_model_file('model.crf.taggerPOS_ned')"
   ]
  },
  {
   "cell_type": "markdown",
   "metadata": {},
   "source": [
    "Ara ja tenim els models predictors dels POS tags per cadascun dels dos idiomes:\n",
    "* ct_POS_esp\n",
    "* ct_POS_ned"
   ]
  },
  {
   "cell_type": "code",
   "execution_count": 80,
   "metadata": {},
   "outputs": [
    {
     "name": "stdout",
     "output_type": "stream",
     "text": [
      "Esp: 0.961\n",
      "Ned: 0.958\n"
     ]
    }
   ],
   "source": [
    "# Funció per avaluar el POS tagging\n",
    "def evaluate_POS(true_tags, pred_tags):\n",
    "    \"\"\"\n",
    "    Avaluació del POS tagging comparant seqüències de tags.\n",
    "\n",
    "    Args:\n",
    "    true_tags (list): Llista de llistes amb els tags reals.\n",
    "    pred_tags (list): Llista de llistes amb els tags predits.\n",
    "\n",
    "    Returns:\n",
    "    dict: Un diccionari amb les mètriques 'accuracy'.\n",
    "    \"\"\"\n",
    "    total = 0\n",
    "    correct = 0\n",
    "\n",
    "    for true_sent, pred_sent in zip(true_tags, pred_tags):\n",
    "        total += len(true_sent)\n",
    "        correct += sum(1 for true_tag, pred_tag in zip(true_sent, pred_sent) if true_tag == pred_tag)\n",
    "\n",
    "    accuracy = correct / total if total > 0 else 0\n",
    "\n",
    "    return round(accuracy, 3)\n",
    "  \n",
    "\n",
    "# Prediccions del POS tagging - Espanyol\n",
    "y_pred_POS_esp = ct_POS_esp.tag_sents(get_token(test_esp))\n",
    "y_real_POS_esp = get_token_POS(test_esp)\n",
    "print(f\"Esp: {evaluate_POS(y_real_POS_esp, y_pred_POS_esp)}\")\n",
    "\n",
    "# Prediccions del POS tagging - Neerlandés\n",
    "y_pred_POS_ned = ct_POS_ned.tag_sents(get_token(test_ned))\n",
    "y_real_POS_ned = get_token_POS(test_ned)\n",
    "print(f\"Ned: {evaluate_POS(y_real_POS_ned, y_pred_POS_ned)}\")\n"
   ]
  },
  {
   "cell_type": "markdown",
   "metadata": {},
   "source": [
    "El model prediu el postags amb una accuracy al voltant d'un 96%. Com que és un bon resultat, l'utilitzarem en les feature functions."
   ]
  },
  {
   "cell_type": "markdown",
   "metadata": {},
   "source": [
    "### Model predicor d'entitats"
   ]
  },
  {
   "cell_type": "markdown",
   "metadata": {},
   "source": [
    "Aquesta classe és igual que la anterior, però utilitza el model anterior per predir els postags"
   ]
  },
  {
   "cell_type": "code",
   "execution_count": 81,
   "metadata": {},
   "outputs": [],
   "source": [
    "import re\n",
    "import string\n",
    "class FeatureGetter:\n",
    "    def __init__(self, ct_POS, use_digit=True, use_punctuation=True, use_prefix=True, use_suffix=True, use_capitalization=True, use_prev_word=True, use_next_word=True):\n",
    "        \"\"\"\n",
    "        Inicialitza el FeatureGetter amb opcions per activar o desactivar certes característiques.\n",
    "        \"\"\"\n",
    "        self.ct_POS = ct_POS\n",
    "        self.use_digit = use_digit\n",
    "        self.use_punctuation = use_punctuation\n",
    "        self.use_prefix = use_prefix\n",
    "        self.use_suffix = use_suffix\n",
    "        self.use_capitalization = use_capitalization\n",
    "        self.use_prev_word = use_prev_word\n",
    "        self.use_next_word = use_next_word\n",
    "        self._pattern = re.compile(r\"\\d\")\n",
    "\n",
    "    def has_digit(self, token):\n",
    "        \"\"\"\n",
    "        Comprova si el token conté algun dígit.\n",
    "        \"\"\"\n",
    "        return any(char.isdigit() for char in token)\n",
    "\n",
    "    def has_punctuation(self, token):\n",
    "        \"\"\"\n",
    "        Comprova si el token conté algun signe de puntuació.\n",
    "        \"\"\"\n",
    "        return any(char in string.punctuation for char in token)\n",
    "\n",
    "    def get_prefix(self, token, n=3):\n",
    "        \"\"\"\n",
    "        Prefix del token.\n",
    "        \"\"\"\n",
    "        return token[:n] if len(token) > n else token\n",
    "\n",
    "    def get_suffix(self, token, n=3):\n",
    "        \"\"\"\n",
    "        Sufix del token.\n",
    "        \"\"\"\n",
    "        return token[-n:] if len(token) > n else token\n",
    "    \n",
    "    def pos_tag(self, token):\n",
    "        \"\"\"\n",
    "        Etiqueta POS del token.\n",
    "        \"\"\"\n",
    "        return self.ct_POS.tag([token])[0][1]\n",
    "\n",
    "\n",
    "    def get_features(self, tokens, index):\n",
    "        \"\"\"\n",
    "        Obté les característiques del token.\n",
    "        \"\"\"\n",
    "        token = tokens[index]\n",
    "        features = [\"WORD_\" + token]\n",
    "\n",
    "        if self.use_capitalization and token[0].isupper():\n",
    "            features.append(\"CAPITALIZATION\")\n",
    "\n",
    "        if self.use_digit and self.has_digit(token):\n",
    "            features.append(\"HAS_NUM\")\n",
    "\n",
    "        if self.use_punctuation and self.has_punctuation(token):\n",
    "            features.append(\"PUNCTUATION\")\n",
    "\n",
    "        if self.use_suffix:\n",
    "            features.extend([\"SUF_\" + self.get_suffix(token, n) for n in range(1, 4) if len(token) >= n])\n",
    "\n",
    "        if self.use_prefix:\n",
    "            features.extend([\"PRE_\" + self.get_prefix(token, n) for n in range(1, 4) if len(token) >= n])\n",
    "\n",
    "        pos_tag = self.pos_tag(token)\n",
    "        features.append(\"POS_\" + pos_tag)\n",
    "        if self.use_prev_word and index > 0:\n",
    "            prev_token = tokens[index - 1]\n",
    "            features.append(\"PREV_WORD_\" + prev_token)\n",
    "\n",
    "        if self.use_next_word and index < len(tokens) - 1:\n",
    "            next_token = tokens[index + 1]\n",
    "            features.append(\"NEXT_WORD_\" + next_token)\n",
    "        return features"
   ]
  },
  {
   "cell_type": "markdown",
   "metadata": {},
   "source": [
    "### Grid Search - Optimitar Feature Functions"
   ]
  },
  {
   "cell_type": "markdown",
   "metadata": {},
   "source": [
    "Realitzem un Grid Search per trobar la millor combinació de feature functions tal que es maximitza el recall.\n",
    "\n",
    "Com que les dades inicials estan en codificació BIO, aquesta cerca en quadrícula es realitza amb les dades en aquesta mateixa codificació."
   ]
  },
  {
   "cell_type": "code",
   "execution_count": 82,
   "metadata": {},
   "outputs": [],
   "source": [
    "from itertools import product\n",
    "from nltk.tag import CRFTagger\n",
    "\n",
    "def grid_search_feature_combinations(train_data, val_data, feature_combinations):\n",
    "    \"\"\"\n",
    "    Realitza un grid search amb un conjunt definit de combinacions de funcions de característiques per trobar la millor que maximitza el recall.\n",
    "    \n",
    "    Args:\n",
    "    train_data (list): Dades d'entrenament en format BIO.\n",
    "    val_data (list): Dades de validació en format BIO.\n",
    "    feature_combinations (list): Una llista de diccionaris amb combinacions de funcions de característiques.\n",
    "    \n",
    "    Returns:\n",
    "    tuple: La millor combinació de característiques i el seu valor de recall.\n",
    "    \"\"\"\n",
    "    best_recall = 0\n",
    "    best_combination = None\n",
    "    \n",
    "    train_data = get_token_entity(train_data)\n",
    "    \n",
    "    for options in feature_combinations:\n",
    "        feature_getter = FeatureGetter(**options, ct_POS=ct_POS_esp)\n",
    "        ct = CRFTagger(feature_func=feature_getter.get_features)\n",
    "        \n",
    "        # Entrena el model CRFTagger amb les dades d'entrenament\n",
    "        ct.train(train_data, 'model.crf.tagger')\n",
    "        \n",
    "        # Prepara les dades de test i obtenir les prediccions\n",
    "        y_real = [extract_entities(sent) for sent in get_token_entity(val_data)]\n",
    "        val_tokens = get_token(val_data)\n",
    "        y_pred = ct.tag_sents(val_tokens)\n",
    "        y_pred_entities = [extract_entities(sent) for sent in y_pred]\n",
    "        \n",
    "        # Avaluació de les entitats predites respecte a les reals\n",
    "        metrics = evaluate_entities(y_real, y_pred_entities)\n",
    "        recall = metrics['recall']\n",
    "        \n",
    "        # Actualitza la millor combinació si el recall actual és millor\n",
    "        if recall > best_recall:\n",
    "            best_recall = recall\n",
    "            best_combination = options\n",
    "\n",
    "    return best_combination, best_recall\n",
    "\n",
    "# Defineix les combinacions de paràmetres explícitament\n",
    "feature_combinations = [\n",
    "    {'use_prefix': True, 'use_suffix': True, 'use_prev_word': True, 'use_next_word': True},\n",
    "    {'use_prefix': True, 'use_suffix': True, 'use_prev_word': False, 'use_next_word': False},\n",
    "    {'use_prefix': False, 'use_suffix': False, 'use_prev_word': True, 'use_next_word': True}\n",
    "]\n",
    "\n",
    "#best_combination, best_recall = grid_search_feature_combinations(train_esp, val_esp, feature_combinations)\n",
    "#print(\"Best feature combination:\", best_combination)\n",
    "#print(\"Best recall:\", best_recall)"
   ]
  },
  {
   "cell_type": "markdown",
   "metadata": {},
   "source": [
    "La cel·la anterior té un temps d'execució molt elevat, per la qual cosa si es desitja executar, només cal descomentar les últimes tres línies.\n",
    "Per tal d'estalviar tot aquest temps de còmput, els resultats obtinguts són els següents:\n",
    "\n",
    "* Best feature combination: {'use_prefix': True, 'use_suffix': True, 'use_prev_word': True, 'use_next_word': True}\n",
    "* Best recall: 0.711"
   ]
  },
  {
   "cell_type": "markdown",
   "metadata": {},
   "source": [
    "Com podem veure, la combinació que dona un recall més elevat és amb totes les feature functions actives, per la qual cosa les utilitzarem en el model final."
   ]
  },
  {
   "cell_type": "markdown",
   "metadata": {},
   "source": [
    "### Codificació BIO"
   ]
  },
  {
   "cell_type": "code",
   "execution_count": 83,
   "metadata": {},
   "outputs": [],
   "source": [
    "from nltk.tag import CRFTagger\n",
    "import pycrfsuite\n",
    "import pandas as pd\n",
    "\n",
    "def compare_models(train_data, test_data, feature_func=None, lang='esp'):\n",
    "    \"\"\"\n",
    "    Entrena i evalua dos models CRFTagger: un bàsic i un altre amb la funció _get_features()\n",
    "    modificada, mostrant les mètriques de precisio, recall i F1 en una taula.\n",
    "\n",
    "    Args:\n",
    "    train_data (list): Dades d'entrenament en format BIO.\n",
    "    test_data (list): Dades de prova en format BIO.\n",
    "    feature_func (callable, optional): Funció de característiques per al segon model.\n",
    "    \n",
    "    Returns:\n",
    "    pd.DataFrame: Taula amb les mètriques de precisio, recall i F1 per a cada model.\n",
    "    \"\"\"\n",
    "    # Entrenament del model bàsic\n",
    "    ct_basic = CRFTagger(feature_func=None)\n",
    "    ct_basic.train(train_data, f'model.crf.tagger_BIO_{lang}')\n",
    "    \n",
    "    # Entrenament del model modificat si feature_func és proporcionada\n",
    "    ct_modified = CRFTagger(feature_func=feature_func)\n",
    "    ct_modified.train(train_data, f'model.crf.tagger_BIO_{lang}')\n",
    "    \n",
    "    # Preparació de les dades de prova i predicció per a cada model\n",
    "    y_real = [extract_entities(sent) for sent in get_token_entity(test_data)]\n",
    "    y_pred_basic = ct_basic.tag_sents(get_token(test_data))\n",
    "    y_pred_modified = ct_modified.tag_sents(get_token(test_data))\n",
    "    \n",
    "    y_pred_basic_entities = [extract_entities(sent) for sent in y_pred_basic]\n",
    "    y_pred_modified_entities = [extract_entities(sent) for sent in y_pred_modified]\n",
    "    \n",
    "    # Avaluació de les entitats per a cada model\n",
    "    metrics_basic = evaluate_entities(y_real, y_pred_basic_entities)\n",
    "    metrics_modified = evaluate_entities(y_real, y_pred_modified_entities)\n",
    "    \n",
    "    # Creem la taula de resultats\n",
    "    results = {\n",
    "        'Metric': ['Precisio', 'Recall', 'F1 Score'],\n",
    "        'CRFTagger Basic': [metrics_basic['precisio'], metrics_basic['recall'], metrics_basic['f1_score']],\n",
    "        'CRFTagger Modified': [metrics_modified['precisio'], metrics_modified['recall'], metrics_modified['f1_score']]\n",
    "    }\n",
    "    return pd.DataFrame(results)"
   ]
  },
  {
   "cell_type": "code",
   "execution_count": 84,
   "metadata": {},
   "outputs": [
    {
     "name": "stdout",
     "output_type": "stream",
     "text": [
      "Resultats per Espanyol:\n",
      "     Metric  CRFTagger Basic  CRFTagger Modified\n",
      "0  Precisio            0.741               0.783\n",
      "1    Recall            0.708               0.768\n",
      "2  F1 Score            0.724               0.776\n",
      "Resultats per Neerlandès:\n",
      "     Metric  CRFTagger Basic  CRFTagger Modified\n",
      "0  Precisio            0.701               0.769\n",
      "1    Recall            0.621               0.715\n",
      "2  F1 Score            0.659               0.741\n"
     ]
    }
   ],
   "source": [
    "# Ús de la funció per a Espanyol i Neerlandès\n",
    "train_esp_data = get_token_entity(train_esp)\n",
    "feature_getter_esp = FeatureGetter(ct_POS=ct_POS_esp)\n",
    "\n",
    "train_ned_data = get_token_entity(train_ned)\n",
    "feature_getter_ned = FeatureGetter(ct_POS=ct_POS_ned)\n",
    "\n",
    "# Resultats per Espanyol\n",
    "results_esp = compare_models(train_esp_data, test_esp, feature_getter_esp.get_features, 'esp')\n",
    "print(\"Resultats per Espanyol:\")\n",
    "print(results_esp)\n",
    "\n",
    "# Resultats per Neerlandès\n",
    "results_ned = compare_models(train_ned_data, test_ned, feature_getter_ned.get_features, 'ned')\n",
    "print(\"Resultats per Neerlandès:\")\n",
    "print(results_ned)"
   ]
  },
  {
   "cell_type": "markdown",
   "metadata": {},
   "source": [
    "### Codificació IO"
   ]
  },
  {
   "cell_type": "code",
   "execution_count": 85,
   "metadata": {},
   "outputs": [],
   "source": [
    "def bio_to_io(bio_tagged_sentences):\n",
    "    \"\"\"\n",
    "    Converteix les etiquetes de múltiples frases des de la codificació BIO a IO.\n",
    "    \n",
    "    Arguments:\n",
    "        bio_tagged_sentences: Una llista de llistes de tuples (word, tag) on 'tag' és en codificació BIO.\n",
    "    \n",
    "    Retorna:\n",
    "        Una llista de llistes de tuples (word, io_tag) on 'io_tag' és en codificació IO per cada frase.\n",
    "    \"\"\"\n",
    "    io_tagged_sentences = []\n",
    "    \n",
    "    for sentence in bio_tagged_sentences:\n",
    "        io_tagged_sentence = []\n",
    "        for word, tag in sentence:\n",
    "            if tag.startswith('B-'):\n",
    "                # Canvia B- per I-\n",
    "                io_tagged_sentence.append((word, 'I-' + tag[2:]))\n",
    "            elif tag.startswith('I-'):\n",
    "                io_tagged_sentence.append((word, tag))\n",
    "            else:\n",
    "                # Manté les etiquetes 'O' tal com estan\n",
    "                io_tagged_sentence.append((word, 'O'))\n",
    "        io_tagged_sentences.append(io_tagged_sentence)\n",
    "    \n",
    "    return io_tagged_sentences"
   ]
  },
  {
   "cell_type": "markdown",
   "metadata": {},
   "source": [
    "Entrenar el model amb la codificació IO i avaluar els resultats"
   ]
  },
  {
   "cell_type": "code",
   "execution_count": 86,
   "metadata": {},
   "outputs": [],
   "source": [
    "def evaluate_encoding(encoding, train_data, test_data, feature_getter, lang):\n",
    "    \"\"\"\n",
    "    Processa les dades, entrena un model, fa prediccions, i evalua el rendiment.\n",
    "    \n",
    "    Args:\n",
    "    lang (str): Tipus de codificació de les dades.\n",
    "    train_data (list): Dades d'entrenament en format BIO.\n",
    "    test_data (list): Dades de prova en format BIO.\n",
    "    feature_getter (FeatureGetter): Instància de la classe FeatureGetter.\n",
    "    lang (str): Idioma de les dades.\n",
    "\n",
    "    Returns:\n",
    "    None: Imprimeix les mètriques d'avaluació.\n",
    "    \"\"\"\n",
    "    # Convertim les dades d'entrenament de format BIO a l'encoding\n",
    "    if encoding == 'IO':\n",
    "        train_data = bio_to_io(get_token_entity(train_data))\n",
    "    else: # 'BIOW'\n",
    "        train_data = bio_to_biow(get_token_entity(train_data))\n",
    "\n",
    "    # Creem el model i l'entrenem amb les dades d'entrenament\n",
    "    ct = CRFTagger(feature_func=feature_getter.get_features)\n",
    "    ct.train(train_data, f'model.crf.tagger_{encoding}_{lang}')\n",
    "\n",
    "    # Convertim les dades de prova de format BIO a l'encoding i fem les prediccions\n",
    "    if encoding == 'IO':\n",
    "        y_real = bio_to_io(get_token_entity(test_data))\n",
    "        y_pred = bio_to_io(ct.tag_sents(get_token(test_data)))\n",
    "    else: \n",
    "        y_real = bio_to_biow(get_token_entity(test_data))\n",
    "        y_pred = bio_to_biow(ct.tag_sents(get_token(test_data)))\n",
    "\n",
    "    # Extraiem les entitats reals i predites\n",
    "    y_real_entities = [extract_entities(sent, f\"{encoding}\") for sent in y_real]\n",
    "    y_pred_entities = [extract_entities(sent, f\"{encoding}\") for sent in y_pred]\n",
    "\n",
    "    # Avaluem les entitats\n",
    "    metrics = evaluate_entities(y_real_entities, y_pred_entities)\n",
    "    print(f'Precisio: {metrics[\"precisio\"]:.3f}, Recall: {metrics[\"recall\"]:.3f}, F1 Score: {metrics[\"f1_score\"]:.3f}')"
   ]
  },
  {
   "cell_type": "code",
   "execution_count": 87,
   "metadata": {},
   "outputs": [
    {
     "name": "stdout",
     "output_type": "stream",
     "text": [
      "Resultats per Espanyol:\n",
      "Precisio: 0.785, Recall: 0.762, F1 Score: 0.773\n",
      "Resultats per Neerlandès:\n",
      "Precisio: 0.746, Recall: 0.685, F1 Score: 0.714\n"
     ]
    }
   ],
   "source": [
    "# Avaluem els resultats en espanyol\n",
    "train_esp_data = train_esp\n",
    "test_esp_data = test_esp\n",
    "feature_getter_esp = FeatureGetter(ct_POS=ct_POS_esp)  \n",
    "\n",
    "print(\"Resultats per Espanyol:\")\n",
    "evaluate_encoding(\"IO\", train_esp_data, test_esp_data, feature_getter_esp, 'esp')\n",
    "\n",
    "# Avaluem els resultats en neerlandès\n",
    "train_ned_data = train_ned\n",
    "test_ned_data = test_ned\n",
    "feature_getter_ned = FeatureGetter(ct_POS=ct_POS_ned)  \n",
    "\n",
    "print(\"Resultats per Neerlandès:\")\n",
    "evaluate_encoding(\"IO\", train_ned_data, test_ned_data, feature_getter_ned, 'ned')\n"
   ]
  },
  {
   "cell_type": "markdown",
   "metadata": {},
   "source": [
    "### Codificació BIOW"
   ]
  },
  {
   "cell_type": "code",
   "execution_count": 88,
   "metadata": {},
   "outputs": [],
   "source": [
    "def bio_to_biow(bio_tagged_sentences):\n",
    "    \"\"\"\n",
    "    Converteix les etiquetes de múltiples frases des de la codificació BIO a BIOW.\n",
    "    \n",
    "    Arguments:\n",
    "        bio_tagged_sentences: Una llista de llistes de tuples (word, tag) on 'tag' és en codificació BIO.\n",
    "    \n",
    "    Retorna:\n",
    "        Una llista de llistes de tuples (word, biow_tag) on 'biow_tag' és en codificació BIOW per cada frase.\n",
    "    \"\"\"\n",
    "    biow_tagged_sentences = []\n",
    "    \n",
    "    for sentence in bio_tagged_sentences:\n",
    "        biow_tagged_sentence = []\n",
    "        for i, (word, tag) in enumerate(sentence):\n",
    "            if tag.startswith('B-'):\n",
    "                # Comprovar si l'entitat només té una paraula (W)\n",
    "                if i + 1 < len(sentence) and sentence[i + 1][1].startswith('I-'):\n",
    "                    biow_tagged_sentence.append((word, 'B-' + tag[2:]))\n",
    "                else:\n",
    "                    biow_tagged_sentence.append((word, 'W-' + tag[2:]))\n",
    "            elif tag.startswith('I-'):\n",
    "                biow_tagged_sentence.append((word, tag))\n",
    "            else:\n",
    "                # Manté les etiquetes 'O' tal com estan\n",
    "                biow_tagged_sentence.append((word, 'O'))\n",
    "        biow_tagged_sentences.append(biow_tagged_sentence)\n",
    "    \n",
    "    return biow_tagged_sentences"
   ]
  },
  {
   "cell_type": "markdown",
   "metadata": {},
   "source": [
    "Entrenar el model amb la codificació BIOW i avaluar els resultats"
   ]
  },
  {
   "cell_type": "code",
   "execution_count": 89,
   "metadata": {},
   "outputs": [
    {
     "name": "stdout",
     "output_type": "stream",
     "text": [
      "Resultats per Espanyol:\n",
      "Precisio: 0.792, Recall: 0.282, F1 Score: 0.416\n",
      "Resultats per Neerlandès:\n",
      "Precisio: 0.804, Recall: 0.275, F1 Score: 0.409\n"
     ]
    }
   ],
   "source": [
    "feature_getter_esp = FeatureGetter(ct_POS=ct_POS_esp)  \n",
    "feature_getter_ned = FeatureGetter(ct_POS=ct_POS_ned)  \n",
    "\n",
    "# Processar i avaluar per Espanyol\n",
    "print(\"Resultats per Espanyol:\")\n",
    "evaluate_encoding(\"BIOW\", train_esp_data, test_esp_data, feature_getter_esp, 'esp')\n",
    "\n",
    "# Processar i avaluar per Neerlandès\n",
    "print(\"Resultats per Neerlandès:\")\n",
    "evaluate_encoding(\"BIOW\", train_ned_data, test_ned_data, feature_getter_ned, 'ned')"
   ]
  },
  {
   "cell_type": "markdown",
   "metadata": {},
   "source": [
    "### Prova amb textos reals"
   ]
  },
  {
   "cell_type": "code",
   "execution_count": 90,
   "metadata": {},
   "outputs": [],
   "source": [
    "import os\n",
    "import nltk\n",
    "from nltk.tokenize import word_tokenize\n",
    "\n",
    "def read_and_tokenize(file_path):\n",
    "    \"\"\"\n",
    "    Llegeix un fitxer de text i retorna una llista de tokens.\n",
    "    \n",
    "    Args:\n",
    "    file_path (str): Camí al fitxer de text.\n",
    "    \n",
    "    Returns:\n",
    "    list: Llista de tokens del text.\n",
    "    \"\"\"\n",
    "    with open(file_path, 'r', encoding='utf-8') as file:\n",
    "        text = file.read()\n",
    "        tokens = word_tokenize(text)\n",
    "        return tokens\n",
    "\n",
    "# Processar cada fitxer\n",
    "tokens_esp = read_and_tokenize('./dades_reals/esp.txt')\n",
    "tokens_ned = read_and_tokenize('./dades_reals/ned.txt')"
   ]
  },
  {
   "cell_type": "markdown",
   "metadata": {},
   "source": [
    "En primer lloc, veiem com es comporta el model amb el primer capítol de \"El Quijote\", de Miguel de Cervantes."
   ]
  },
  {
   "cell_type": "code",
   "execution_count": 91,
   "metadata": {},
   "outputs": [
    {
     "name": "stdout",
     "output_type": "stream",
     "text": [
      "Tokens etiquetats:\n",
      "Miguel: B-PER, de: I-PER, Cervantes: I-PER, Saavedra: I-PER, Que: I-PER, trata: O, de: O, la: O, condición: O, y: O, ejercicio: O, del: O, famoso: O, hidalgo: O, D.: B-MISC, Quijote: I-MISC, de: I-MISC, la: I-MISC, Mancha: I-MISC, En: I-MISC, un: I-MISC, lugar: I-MISC, de: I-MISC, la: I-MISC, Mancha: I-MISC, ,: O, de: O, cuyo: O, nombre: O, no: O, quiero: O, acordarme: O, ,: O, no: O, ha: O, mucho: O, tiempo: O, que: O, vivía: O, un: O, hidalgo: O, de: O, los: O, de: O, lanza: O, en: O, astillero: O, ,: O, adarga: O, antigua: O, ,: O, rocín: O, flaco: O, y: O, galgo: O, corredor: O, .: O, Una: B-ORG, olla: O, de: O, algo: O, más: O, vaca: O, que: O, carnero: O, ,: O, salpicón: O, las: O, más: O, noches: O, ,: O, duelos: O, y: O, quebrantos: O, los: O, sábados: O, ,: O, lentejas: O, los: O, viernes: O, ,: O, algún: O, palomino: O, de: O, añadidura: O, los: O, domingos: O, ,: O, consumían: O, las: O, tres: O, partes: O, de: O, su: O, hacienda: O, .: O, El: O, resto: O, della: O, concluían: O, sayo: O, de: O, velarte: O, ,: O, calzas: O, de: O, velludo: O, para: O, las: O, fiestas: O, con: O, sus: O, pantuflos: O, de: O, lo: O, mismo: O, ,: O, los: O, días: O, de: O, entre: O, semana: O, se: O, honraba: O, con: O, su: O, vellori: O, de: O, lo: O, más: O, fino: O, .: O, Tenía: B-ORG, en: O, su: O, casa: O, una: O, ama: O, que: O, pasaba: O, de: O, los: O, cuarenta: O, ,: O, y: O, una: O, sobrina: O, que: O, no: O, llegaba: O, a: O, los: O, veinte: O, ,: O, y: O, un: O, mozo: O, de: O, campo: O, y: O, plaza: O, ,: O, que: O, así: O, ensillaba: O, el: O, rocín: O, como: O, tomaba: O, la: O, podadera: O, .: O, Frisaba: B-ORG, la: O, edad: O, de: O, nuestro: O, hidalgo: O, con: O, los: O, cincuenta: O, años: O, ,: O, era: O, de: O, complexión: O, recia: O, ,: O, seco: O, de: O, carnes: O, ,: O, enjuto: O, de: O, rostro: O, ;: O, gran: O, madrugador: O, y: O, amigo: O, de: O, la: O, caza: O, .: O, Quieren: B-PER, decir: O, que: O, tenía: O, el: O, sobrenombre: O, de: O, Quijada: B-LOC, o: O, Quesada: B-LOC, (: O, que: O, en: O, esto: O, hay: O, alguna: O, diferencia: O, en: O, los: O, autores: O, que: O, deste: O, caso: O, escriben: O, ): O, ,: O, aunque: O, por: O, conjeturas: O, verosímiles: O, se: O, deja: O, entender: O, que: O, se: O, llama: O, Quijana: O, ;: O, pero: O, esto: O, importa: O, poco: O, a: O, nuestro: O, cuento: O, ;: O, basta: O, que: O, en: O, la: O, narración: O, dél: O, no: O, se: O, salga: O, un: O, punto: O, de: O, la: O, verdad: O, .: O, Es: B-ORG, ,: O, pues: O, ,: O, de: O, saber: O, ,: O, que: O, este: O, sobredicho: O, hidalgo: O, ,: O, los: O, ratos: O, que: O, estaba: O, ocioso: O, (: O, que: O, eran: O, los: O, más: O, del: O, año: O, ): O, se: O, daba: O, a: O, leer: O, libros: O, de: O, caballerías: O, con: O, tanta: O, afición: O, y: O, gusto: O, ,: O, que: O, olvidó: O, casi: O, de: O, todo: O, punto: O, el: O, ejercicio: O, de: O, la: O, caza: O, ,: O, y: O, aun: O, la: O, administración: O, de: O, su: O, hacienda: O, ;: O, y: O, llegó: O, a: O, tanto: O, su: O, curiosidad: O, y: O, desatino: O, en: O, esto: O, ,: O, que: O, vendió: O, muchas: O, hanegas: O, de: O, tierra: O, de: O, sembradura: O, ,: O, para: O, comprar: O, libros: O, de: O, caballerías: O, en: O, que: O, leer: O, ;: O, y: O, así: O, llevó: O, a: O, su: O, casa: O, todos: O, cuantos: O, pudo: O, haber: O, dellos: O, ;: O, y: O, de: O, todos: O, ningunos: O, le: O, parecían: O, tan: O, bien: O, como: O, los: O, que: O, compuso: O, el: O, famoso: O, Feliciano: B-PER, de: I-PER, Silva: I-PER, :: O, porque: O, la: O, claridad: O, de: O, su: O, prosa: O, ,: O, y: O, aquellas: O, intrincadas: O, razones: O, suyas: O, ,: O, le: O, parecían: O, de: O, perlas: O, ;: O, y: O, más: O, cuando: O, llegaba: O, a: O, leer: O, aquellos: O, requiebros: O, y: O, cartas: O, de: O, desafío: O, ,: O, donde: O, en: O, muchas: O, partes: O, hallaba: O, escrito: O, :: O, la: O, razón: O, de: O, la: O, sinrazón: O, que: O, a: O, mi: O, razón: O, se: O, hace: O, ,: O, de: O, tal: O, manera: O, mi: O, razón: O, enflaquece: O, ,: O, que: O, con: O, razón: O, me: O, quejo: O, de: O, la: O, vuestra: O, fermosura: O, ,: O, y: O, también: O, cuando: O, leía: O, :: O, los: O, altos: O, cielos: O, que: O, de: O, vuestra: O, divinidad: O, divinamente: O, con: O, las: O, estrellas: O, se: O, fortifican: O, ,: O, y: O, os: O, hacen: O, merecedora: O, del: O, merecimiento: O, que: O, merece: O, la: O, vuestra: O, grandeza: O, .: O, Con: O, estas: O, y: O, semejantes: O, razones: O, perdía: O, el: O, pobre: O, caballero: O, el: O, juicio: O, ,: O, y: O, desvelábase: O, por: O, entenderlas: O, ,: O, y: O, desentrañarles: O, el: O, sentido: O, ,: O, que: O, no: O, se: O, lo: O, sacara: O, ,: O, ni: O, las: O, entendiera: O, el: O, mismo: O, Aristóteles: B-LOC, ,: O, si: O, resucitara: O, para: O, sólo: O, ello: O, .: O, No: O, estaba: O, muy: O, bien: O, con: O, las: O, heridas: O, que: O, don: O, Belianis: B-PER, daba: O, y: O, recibía: O, ,: O, porque: O, se: O, imaginaba: O, que: O, por: O, grandes: O, maestros: O, que: O, le: O, hubiesen: O, curado: O, ,: O, no: O, dejaría: O, de: O, tener: O, el: O, rostro: O, y: O, todo: O, el: O, cuerpo: O, lleno: O, de: O, cicatrices: O, y: O, señales: O, ;: O, pero: O, con: O, todo: O, alababa: O, en: O, su: O, autor: O, aquel: O, acabar: O, su: O, libro: O, con: O, la: O, promesa: O, de: O, aquella: O, inacabable: O, aventura: O, ,: O, y: O, muchas: O, veces: O, le: O, vino: O, deseo: O, de: O, tomar: O, la: O, pluma: O, ,: O, y: O, darle: O, fin: O, al: O, pie: O, de: O, la: O, letra: O, como: O, allí: O, se: O, promete: O, ;: O, y: O, sin: O, duda: O, alguna: O, lo: O, hiciera: O, ,: O, y: O, aun: O, saliera: O, con: O, ello: O, ,: O, si: O, otros: O, mayores: O, y: O, continuos: O, pensamientos: O, no: O, se: O, lo: O, estorbaran: O, .: O, Tuvo: O, muchas: O, veces: O, competencia: O, con: O, el: O, cura: O, de: O, su: O, lugar: O, (: O, que: O, era: O, hombre: O, docto: O, graduado: O, en: O, Sigüenza: B-LOC, ): O, ,: O, sobre: O, cuál: O, había: O, sido: O, mejor: O, caballero: O, ,: O, Palmerín: B-LOC, de: I-LOC, Inglaterra: I-LOC, o: O, Amadís: B-ORG, de: I-ORG, Gaula: I-ORG, ;: O, mas: O, maese: O, Nicolás: B-PER, ,: O, barbero: O, del: O, mismo: O, pueblo: O, ,: O, decía: O, que: O, ninguno: O, llegaba: O, al: O, caballero: O, del: O, Febo: B-ORG, ,: O, y: O, que: O, si: O, alguno: O, se: O, le: O, podía: O, comparar: O, ,: O, era: O, don: O, Galaor: B-PER, ,: O, hermano: O, de: O, Amadís: B-ORG, de: I-ORG, Gaula: I-ORG, ,: O, porque: O, tenía: O, muy: O, acomodada: O, condición: O, para: O, todo: O, ;: O, que: O, no: O, era: O, caballero: O, melindroso: O, ,: O, ni: O, tan: O, llorón: O, como: O, su: O, hermano: O, ,: O, y: O, que: O, en: O, lo: O, de: O, la: O, valentía: O, no: O, le: O, iba: O, en: O, zaga: O, .: O, En: O, resolución: O, ,: O, él: O, se: O, enfrascó: O, tanto: O, en: O, su: O, lectura: O, ,: O, que: O, se: O, le: O, pasaban: O, las: O, noches: O, leyendo: O, de: O, claro: O, en: O, claro: O, ,: O, y: O, los: O, días: O, de: O, turbio: O, en: O, turbio: O, ,: O, y: O, así: O, ,: O, del: O, poco: O, dormir: O, y: O, del: O, mucho: O, leer: O, ,: O, se: O, le: O, secó: O, el: O, cerebro: O, ,: O, de: O, manera: O, que: O, vino: O, a: O, perder: O, el: O, juicio: O, .: O, Llenósele: B-ORG, la: I-ORG, fantasía: I-ORG, de: I-ORG, todo: I-ORG, aquello: O, que: O, leía: O, en: O, los: O, libros: O, ,: O, así: O, de: O, encantamientos: O, ,: O, como: O, de: O, pendencias: O, ,: O, batallas: O, ,: O, desafíos: O, ,: O, heridas: O, ,: O, requiebros: O, ,: O, amores: O, ,: O, tormentas: O, y: O, disparates: O, imposibles: O, ,: O, y: O, asentósele: O, de: O, tal: O, modo: O, en: O, la: O, imaginación: O, que: O, era: O, verdad: O, toda: O, aquella: O, máquina: O, de: O, aquellas: O, soñadas: O, invenciones: O, que: O, leía: O, ,: O, que: O, para: O, él: O, no: O, había: O, otra: O, historia: O, más: O, cierta: O, en: O, el: O, mundo: O, .: O, Decía: B-ORG, él: O, ,: O, que: O, el: O, Cid: B-ORG, Ruy: I-ORG, Díaz: I-ORG, había: O, sido: O, muy: O, buen: O, caballero: O, ;: O, pero: O, que: O, no: O, tenía: O, que: O, ver: O, con: O, el: O, caballero: O, de: O, la: O, ardiente: O, espada: O, ,: O, que: O, de: O, sólo: O, un: O, revés: O, había: O, partido: O, por: O, medio: O, dos: O, fieros: O, y: O, descomunales: O, gigantes: O, .: O, Mejor: B-PER, estaba: O, con: O, Bernardo: B-PER, del: I-PER, Carpio: I-PER, ,: O, porque: O, en: O, Roncesvalle: B-LOC, había: O, muerto: O, a: O, Roldán: B-MISC, el: I-MISC, encantado: I-MISC, ,: I-MISC, valiéndose: I-MISC, de: I-MISC, la: I-MISC, industria: I-MISC, de: I-MISC, Hércules: I-MISC, ,: O, cuando: O, ahogó: O, a: O, Anteo: B-MISC, ,: I-MISC, el: I-MISC, hijo: I-MISC, de: I-MISC, la: I-MISC, Tierra: I-MISC, ,: O, entre: O, los: O, brazos: O, .: O, Decía: B-MISC, mucho: I-MISC, bien: I-MISC, del: I-MISC, gigante: I-MISC, Morgante: I-MISC, ,: O, porque: O, con: O, ser: O, de: O, aquella: O, generación: O, gigantesca: O, ,: O, que: O, todos: O, son: O, soberbios: O, y: O, descomedidos: O, ,: O, él: O, solo: O, era: O, afable: O, y: O, bien: O, criado: O, ;: O, pero: O, sobre: O, todos: O, estaba: O, bien: O, con: O, Reinaldos: B-ORG, de: I-ORG, Montalbán: I-ORG, ,: O, y: O, más: O, cuando: O, le: O, veía: O, salir: O, de: O, su: O, castillo: O, y: O, robar: O, cuantos: O, topaba: O, ,: O, y: O, cuando: O, en: O, Allende: B-LOC, robó: I-LOC, aquel: I-LOC, ídolo: I-LOC, de: I-LOC, Mahoma: I-LOC, ,: O, que: O, era: O, todo: O, de: O, oro: O, ,: O, según: O, dice: O, su: O, historia: O, .: O, Diera: O, él: O, ,: O, por: O, dar: O, una: O, mano: O, de: O, coces: O, al: O, traidor: O, de: O, Galalón: B-LOC, ,: O, al: O, ama: O, que: O, tenía: O, y: O, aun: O, a: O, su: O, sobrina: O, de: O, añadidura: O, .: O, En: O, efecto: O, ,: O, rematado: O, ya: O, su: O, juicio: O, ,: O, vino: O, a: O, dar: O, en: O, el: O, más: O, extraño: O, pensamiento: O, que: O, jamás: O, dio: O, loco: O, en: O, el: O, mundo: O, ,: O, y: O, fue: O, que: O, le: O, pareció: O, convenible: O, y: O, necesario: O, ,: O, así: O, para: O, el: O, aumento: O, de: O, su: O, honra: O, ,: O, como: O, para: O, el: O, servicio: O, de: O, su: O, república: O, ,: O, hacerse: O, caballero: O, andante: O, ,: O, e: O, irse: O, por: O, todo: O, el: O, mundo: O, con: O, sus: O, armas: O, y: O, caballo: O, a: O, buscar: O, las: O, aventuras: O, ,: O, y: O, a: O, ejercitarse: O, en: O, todo: O, aquello: O, que: O, él: O, había: O, leído: O, ,: O, que: O, los: O, caballeros: O, andantes: O, se: O, ejercitaban: O, ,: O, deshaciendo: O, todo: O, género: O, de: O, agravio: O, ,: O, y: O, poniéndose: O, en: O, ocasiones: O, y: O, peligros: O, ,: O, donde: O, acabándolos: O, ,: O, cobrase: O, eterno: O, nombre: O, y: O, fama: O, .: O, Imaginábase: B-MISC, el: I-MISC, pobre: I-MISC, ya: I-MISC, coronado: I-MISC, por: I-MISC, el: I-MISC, valor: I-MISC, de: I-MISC, su: I-MISC, brazo: I-MISC, por: I-MISC, lo: I-MISC, menos: I-MISC, del: I-MISC, imperio: I-MISC, de: I-MISC, Trapisonda: I-MISC, :: O, y: O, así: O, con: O, estos: O, tan: O, agradables: O, pensamientos: O, ,: O, llevado: O, del: O, estraño: O, gusto: O, que: O, en: O, ellos: O, sentía: O, ,: O, se: O, dió: O, priesa: O, a: O, poner: O, en: O, efecto: O, lo: O, que: O, deseaba: O, .: O, Y: O, lo: O, primero: O, que: O, hizo: O, ,: O, fue: O, limpiar: O, unas: O, armas: O, ,: O, que: O, habían: O, sido: O, de: O, sus: O, bisabuelos: O, ,: O, que: O, ,: O, tomadas: O, de: O, orín: O, y: O, llenas: O, de: O, moho: O, ,: O, luengos: O, siglos: O, había: O, que: O, estaban: O, puestas: O, y: O, olvidadas: O, en: O, un: O, rincón: O, .: O, Limpiólas: B-LOC, y: O, aderezólas: O, lo: O, mejor: O, que: O, pudo: O, ;: O, pero: O, vió: O, que: O, tenían: O, una: O, gran: O, falta: O, ,: O, y: O, era: O, que: O, no: O, tenía: O, celada: O, de: O, encaje: O, ,: O, sino: O, morrión: O, simple: O, ;: O, mas: O, a: O, esto: O, suplió: O, su: O, industria: O, ,: O, porque: O, de: O, cartones: O, hizo: O, un: O, modo: O, de: O, media: O, celada: O, ,: O, que: O, encajada: O, con: O, el: O, morrión: O, ,: O, hacía: O, una: O, apariencia: O, de: O, celada: O, entera: O, .: O, Es: O, verdad: O, que: O, para: O, probar: O, si: O, era: O, fuerte: O, ,: O, y: O, podía: O, estar: O, al: O, riesgo: O, de: O, una: O, cuchillada: O, ,: O, sacó: O, su: O, espada: O, ,: O, y: O, le: O, dió: O, dos: O, golpes: O, ,: O, y: O, con: O, el: O, primero: O, y: O, en: O, un: O, punto: O, deshizo: O, lo: O, que: O, había: O, hecho: O, en: O, una: O, semana: O, :: O, y: O, no: O, dejó: O, de: O, parecerle: O, mal: O, la: O, facilidad: O, con: O, que: O, la: O, había: O, hecho: O, pedazos: O, ,: O, y: O, por: O, asegurarse: O, de: O, este: O, peligro: O, ,: O, lo: O, tornó: O, a: O, hacer: O, de: O, nuevo: O, ,: O, poniéndole: O, unas: O, barras: O, de: O, hierro: O, por: O, de: O, dentro: O, de: O, tal: O, manera: O, ,: O, que: O, él: O, quedó: O, satisfecho: O, de: O, su: O, fortaleza: O, ;: O, y: O, ,: O, sin: O, querer: O, hacer: O, nueva: O, experiencia: O, de: O, ella: O, ,: O, la: O, diputó: O, y: O, tuvo: O, por: O, celada: O, finísima: O, de: O, encaje: O, .: O, Fue: O, luego: O, a: O, ver: O, a: O, su: O, rocín: O, ,: O, y: O, aunque: O, tenía: O, más: O, cuartos: O, que: O, un: O, real: O, ,: O, y: O, más: O, tachas: O, que: O, el: O, caballo: O, de: O, Gonela: B-LOC, ,: O, que: O, tantum: O, pellis: O, ,: O, et: O, ossa: O, fuit: O, ,: O, le: O, pareció: O, que: O, ni: O, el: O, Bucéfalo: B-LOC, de: I-LOC, Alejandro: I-LOC, ,: O, ni: O, Babieca: B-ORG, el: I-ORG, del: I-ORG, Cid: I-ORG, con: O, él: O, se: O, igualaban: O, .: O, Cuatro: O, días: O, se: O, le: O, pasaron: O, en: O, imaginar: O, qué: O, nombre: O, le: O, podría: O, :: O, porque: O, ,: O, según: O, se: O, decía: O, él: O, a: O, sí: O, mismo: O, ,: O, no: O, era: O, razón: O, que: O, caballo: O, de: O, caballero: O, tan: O, famoso: O, ,: O, y: O, tan: O, bueno: O, él: O, por: O, sí: O, ,: O, estuviese: O, sin: O, nombre: O, conocido: O, ;: O, y: O, así: O, procuraba: O, acomodársele: O, ,: O, de: O, manera: O, que: O, declarase: O, quien: O, había: O, sido: O, ,: O, antes: O, que: O, fuese: O, de: O, caballero: O, andante: O, ,: O, y: O, lo: O, que: O, era: O, entones: O, :: O, pues: O, estaba: O, muy: O, puesto: O, en: O, razón: O, ,: O, que: O, mudando: O, su: O, señor: O, estado: O, ,: O, mudase: O, él: O, también: O, el: O, nombre: O, ;: O, y: O, le: O, cobrase: O, famoso: O, y: O, de: O, estruendo: O, ,: O, como: O, convenía: O, a: O, la: O, nueva: O, orden: O, y: O, al: O, nuevo: O, ejercicio: O, que: O, ya: O, profesaba: O, :: O, y: O, así: O, después: O, de: O, muchos: O, nombres: O, que: O, formó: O, ,: O, borró: O, y: O, quitó: O, ,: O, añadió: O, ,: O, deshizo: O, y: O, tornó: O, a: O, hacer: O, en: O, su: O, memoria: O, e: O, imaginación: O, ,: O, al: O, fin: O, le: O, vino: O, a: O, llamar: O, Rocinante: B-PER, ,: O, nombre: O, a: O, su: O, parecer: O, alto: O, ,: O, sonoro: O, y: O, significativo: O, de: O, lo: O, que: O, había: O, sido: O, cuando: O, fue: O, rocín: O, ,: O, antes: O, de: O, lo: O, que: O, ahora: O, era: O, ,: O, que: O, era: O, antes: O, y: O, primero: O, de: O, todos: O, los: O, rocines: O, del: O, mundo: O, .: O, Puesto: O, nombre: O, y: O, tan: O, a: O, su: O, gusto: O, a: O, su: O, caballo: O, ,: O, quiso: O, ponérsele: O, a: O, sí: O, mismo: O, ,: O, y: O, en: O, este: O, pensamiento: O, ,: O, duró: O, otros: O, ocho: O, días: O, ,: O, y: O, al: O, cabo: O, se: O, vino: O, a: O, llamar: O, don: O, Quijote: B-LOC, ,: O, de: O, donde: O, como: O, queda: O, dicho: O, ,: O, tomaron: O, ocasión: O, los: O, autores: O, de: O, esta: O, tan: O, verdadera: O, historia: O, ,: O, que: O, sin: O, duda: O, se: O, debía: O, llamar: O, Quijada: B-LOC, ,: O, y: O, no: O, Quesada: O, como: O, otros: O, quisieron: O, decir: O, .: O, Pero: B-PER, acordándose: O, que: O, el: O, valeroso: O, Amadís: B-ORG, ,: O, no: O, sólo: O, se: O, había: O, contentado: O, con: O, llamarse: O, Amadís: B-ORG, a: O, secas: O, ,: O, sino: O, que: O, añadió: O, el: O, nombre: O, de: O, su: O, reino: O, y: O, patria: O, ,: O, por: O, hacerla: O, famosa: O, ,: O, y: O, se: O, llamó: O, Amadís: B-ORG, de: I-ORG, Gaula: I-ORG, ,: O, así: O, quiso: O, ,: O, como: O, buen: O, caballero: O, ,: O, añadir: O, al: O, suyo: O, el: O, nombre: O, de: O, la: O, suya: O, ,: O, y: O, llamarse: O, don: O, Quijote: B-LOC, de: I-LOC, la: I-LOC, Mancha: I-LOC, ,: O, con: O, que: O, a: O, su: O, parecer: O, declaraba: O, muy: O, al: O, vivo: O, su: O, linaje: O, y: O, patria: O, ,: O, y: O, la: O, honraba: O, con: O, tomar: O, el: O, sobrenombre: O, della: O, .: O, Limpias: B-LOC, ,: O, pues: O, ,: O, sus: O, armas: O, ,: O, hecho: O, del: O, morrión: O, celada: O, ,: O, puesto: O, nombre: O, a: O, su: O, rocín: O, ,: O, y: O, confirmándose: O, a: O, sí: O, mismo: O, ,: O, se: O, dió: O, a: O, entender: O, que: O, no: O, le: O, faltaba: O, otra: O, cosa: O, ,: O, sino: O, buscar: O, una: O, dama: O, de: O, quien: O, enamorarse: O, ,: O, porque: O, el: O, caballero: O, andante: O, sin: O, amores: O, ,: O, era: O, árbol: O, sin: O, hojas: O, y: O, sin: O, fruto: O, ,: O, y: O, cuerpo: O, sin: O, alma: O, .: O, Decíase: O, él: O, :: O, si: O, yo: O, por: O, malos: O, de: O, mis: O, pecados: O, ,: O, por: O, por: O, mi: O, buena: O, suerte: O, ,: O, me: O, encuentro: O, por: O, ahí: O, con: O, algún: O, gigante: O, ,: O, como: O, de: O, ordinario: O, les: O, acontece: O, a: O, los: O, caballeros: O, andantes: O, ,: O, y: O, le: O, derribo: O, de: O, un: O, encuentro: O, ,: O, o: O, le: O, parto: O, por: O, mitad: O, del: O, cuerpo: O, ,: O, o: O, finalmente: O, ,: O, le: O, venzo: O, y: O, le: O, rindo: O, ,: O, ¿no: O, será: O, bien: O, tener: O, a: O, quién: O, enviarle: O, presentado: O, ,: O, y: O, que: O, entre: O, y: O, se: O, hinque: O, de: O, rodillas: O, ante: O, mi: O, dulce: O, señora: O, ,: O, y: O, diga: O, con: O, voz: O, humilde: O, y: O, rendida: O, :: O, yo: O, señora: O, ,: O, soy: O, el: O, gigante: O, Caraculiambro: B-PER, ,: O, señor: O, de: O, la: O, ínsula: O, Malindrania: B-LOC, ,: O, a: O, quien: O, venció: O, en: O, singular: O, batalla: O, el: O, jamás: O, como: O, se: O, debe: O, alabado: O, caballero: O, D.: B-ORG, Quijote: I-ORG, de: I-ORG, la: I-ORG, Mancha: I-ORG, ,: O, el: O, cual: O, me: O, mandó: O, que: O, me: O, presentase: O, ante: O, la: O, vuestra: O, merced: O, ,: O, para: O, que: O, la: O, vuestra: O, grandeza: O, disponga: O, de: O, mí: O, a: O, su: O, talante: O, ?: O, ¡Oh: O, ,: O, cómo: O, se: O, holgó: O, nuestro: O, buen: O, caballero: O, ,: O, cuando: O, hubo: O, hecho: O, este: O, discurso: O, ,: O, y: O, más: O, cuando: O, halló: O, a: O, quién: O, dar: O, nombre: O, de: O, su: O, dama: O, !: O, Y: O, fue: O, ,: O, a: O, lo: O, que: O, se: O, cree: O, ,: O, que: O, en: O, un: O, lugar: O, cerca: O, del: O, suyo: O, había: O, una: O, moza: O, labradora: O, de: O, muy: O, buen: O, parecer: O, ,: O, de: O, quien: O, él: O, un: O, tiempo: O, anduvo: O, enamorado: O, ,: O, aunque: O, según: O, se: O, entiende: O, ,: O, ella: O, jamás: O, lo: O, supo: O, ni: O, se: O, dió: O, cata: O, de: O, ello: O, .: O, Llamábase: B-PER, Aldonza: I-PER, Lorenzo: I-PER, ,: O, y: O, a: O, esta: O, le: O, pareció: O, ser: O, bien: O, darle: O, título: O, de: O, señora: O, de: O, sus: O, pensamientos: O, ;: O, y: O, buscándole: O, nombre: O, que: O, no: O, desdijese: O, mucho: O, del: O, suyo: O, ,: O, y: O, que: O, tirase: O, y: O, se: O, encaminase: O, al: O, de: O, princesa: O, y: O, gran: O, señora: O, ,: O, vino: O, a: O, llamarla: O, Dulcinea: B-PER, del: I-PER, Toboso: I-PER, ,: O, porque: O, era: O, natural: O, del: O, Toboso: B-MISC, ,: O, nombre: O, a: O, su: O, parecer: O, músico: O, y: O, peregrino: O, y: O, significativo: O, ,: O, como: O, todos: O, los: O, demás: O, que: O, a: O, él: O, y: O, a: O, sus: O, cosas: O, había: O, puesto: O, .: O, "
     ]
    }
   ],
   "source": [
    "feature_getter_pos = FeatureGetterPOS()\n",
    "\n",
    "# Creem i configurem el CRFTagger per a espanyol\n",
    "ct_esp = CRFTagger(feature_func=feature_getter_pos.get_features)\n",
    "ct_esp.set_model_file('model.crf.tagger_BIO_esp')\n",
    "\n",
    "# Realitzem la predicció de les etiquetes POS\n",
    "y_pred = ct_esp.tag(tokens_esp)\n",
    "\n",
    "# Extreiem les entitats de la predicció\n",
    "entities = extract_entities(y_pred)\n",
    "\n",
    "# Imprimim els tokens amb les seves etiquetes POS\n",
    "print(\"Tokens etiquetats:\")\n",
    "for token, tag in y_pred:\n",
    "    print(f\"{token}: {tag}, \", end='')"
   ]
  },
  {
   "cell_type": "markdown",
   "metadata": {},
   "source": [
    "Finalment, veiem com es comporta el model neerlandés amb un text en aquest idioma, que hem obtingut dels textos preparatoris pels exàmens de nivell B1 i B2 neerlandesos penjats a Internet."
   ]
  },
  {
   "cell_type": "code",
   "execution_count": 92,
   "metadata": {},
   "outputs": [
    {
     "name": "stdout",
     "output_type": "stream",
     "text": [
      "Tokens etiquetats:\n",
      "Gisteren: B-MISC, ging: I-MISC, ik: I-MISC, met: I-MISC, Marcel: I-MISC, naar: I-MISC, de: I-MISC, supermarkt: I-MISC, .: I-MISC, Wij: I-MISC, hadden: I-MISC, al: I-MISC, een: I-MISC, tijd: I-MISC, samen: I-MISC, ruzie: I-MISC, .: I-MISC, Toch: I-MISC, moesten: I-MISC, er: I-MISC, boodschappen: I-MISC, worden: I-MISC, gedaan: I-MISC, ,: I-MISC, dus: I-MISC, besloten: I-MISC, wij: I-MISC, om: I-MISC, toch: I-MISC, maar: I-MISC, gewoon: I-MISC, wat: I-MISC, inkopen: I-MISC, te: I-MISC, gaan: I-MISC, doen: I-MISC, .: I-MISC, We: I-MISC, kregen: I-MISC, al: I-MISC, meer: I-MISC, ruzie: I-MISC, toen: I-MISC, we: I-MISC, besloten: I-MISC, naar: I-MISC, welke: I-MISC, supermarkt: I-MISC, te: I-MISC, gaan: I-MISC, .: I-MISC, Marcel: I-MISC, wilde: I-MISC, namelijk: I-MISC, naar: I-MISC, de: I-MISC, supermarkt: I-MISC, waar: I-MISC, wasmiddel: I-MISC, in: I-MISC, de: I-MISC, aanbieding: I-MISC, was: I-MISC, en: I-MISC, ik: I-MISC, wilde: I-MISC, naar: I-MISC, de: I-MISC, supermarkt: I-MISC, die: I-MISC, het: I-MISC, dichtst: I-MISC, bij: I-MISC, was: I-MISC, .: I-MISC, Uiteindelijk: I-MISC, stemde: I-MISC, ik: I-MISC, in: I-MISC, met: I-MISC, Marcel: I-MISC, .: I-MISC, We: I-MISC, hadden: I-MISC, weinig: I-MISC, eten: I-MISC, in: I-MISC, huis: I-MISC, dus: I-MISC, moesten: I-MISC, best: I-MISC, veel: I-MISC, kopen: I-MISC, .: I-MISC, We: I-MISC, hadden: I-MISC, vooral: I-MISC, fruit: I-MISC, en: I-MISC, verzorgingsproducten: I-MISC, nodig: I-MISC, .: I-MISC, Denk: I-MISC, dan: I-MISC, aan: I-MISC, shampoo: I-MISC, en: I-MISC, oor: I-MISC, wattenstaafjes: I-MISC, .: I-MISC, We: I-MISC, kregen: I-MISC, alweer: I-MISC, ruzie: I-MISC, toen: I-MISC, we: I-MISC, de: I-MISC, supermarkt: I-MISC, ingingen: I-MISC, .: I-MISC, Aan: I-MISC, het: I-MISC, begin: I-MISC, van: I-MISC, de: I-MISC, supermarkt: I-MISC, is: I-MISC, al: I-MISC, het: I-MISC, fruit: I-MISC, en: I-MISC, de: I-MISC, groentes: I-MISC, .: I-MISC, We: I-MISC, moesten: I-MISC, besluiten: I-MISC, wat: I-MISC, we: I-MISC, gingen: I-MISC, eten: I-MISC, die: I-MISC, avond: I-MISC, .: I-MISC, We: I-MISC, konden: I-MISC, het: I-MISC, er: I-MISC, niet: I-MISC, over: I-MISC, eens: I-MISC, worden: I-MISC, .: I-MISC, Uiteindelijk: I-MISC, hebben: I-MISC, we: I-MISC, dan: I-MISC, ook: I-MISC, geen: I-MISC, avondeten: I-MISC, gekocht: I-MISC, .: I-MISC, Nadat: I-MISC, we: I-MISC, afgerekend: I-MISC, hadden: I-MISC, waren: I-MISC, we: I-MISC, nog: I-MISC, steeds: I-MISC, boos: I-MISC, op: I-MISC, elkaar: I-MISC, .: I-MISC, Toch: I-MISC, hadden: I-MISC, we: I-MISC, thuis: I-MISC, best: I-MISC, wel: I-MISC, honger: I-MISC, .: I-MISC, We: I-MISC, zijn: I-MISC, toen: I-MISC, maar: I-MISC, naar: I-MISC, de: I-MISC, snackbar: I-MISC, gegaan: I-MISC, voor: I-MISC, wat: I-MISC, friet: I-MISC, .: I-MISC, Mijn: I-MISC, naam: I-MISC, is: I-MISC, Rosalie: I-MISC, .: I-MISC, Ik: I-MISC, ben: I-MISC, zestien: I-MISC, jaar: I-MISC, oud: I-MISC, en: I-MISC, ik: I-MISC, woon: I-MISC, in: I-MISC, Friesland: I-MISC, .: I-MISC, Dat: I-MISC, is: I-MISC, helemaal: I-MISC, in: I-MISC, het: I-MISC, noorden: I-MISC, van: I-MISC, Nederland: I-MISC, .: I-MISC, Ik: I-MISC, wil: I-MISC, jullie: I-MISC, graag: I-MISC, vertellen: I-MISC, hoe: I-MISC, mijn: I-MISC, kamer: I-MISC, er: I-MISC, ongeveer: I-MISC, uitziet: I-MISC, .: I-MISC, Ik: I-MISC, woon: I-MISC, in: I-MISC, een: I-MISC, heel: I-MISC, klein: I-MISC, dorp: I-MISC, .: I-MISC, Er: I-MISC, wonen: I-MISC, slechts: I-MISC, een: I-MISC, aantal: I-MISC, duizend: I-MISC, mensen: I-MISC, .: I-MISC, De: I-MISC, huizen: I-MISC, zijn: I-MISC, dus: I-MISC, best: I-MISC, wel: I-MISC, groot: I-MISC, .: I-MISC, Er: I-MISC, is: I-MISC, veel: I-MISC, ruimte: I-MISC, .: I-MISC, Mijn: I-MISC, kamer: I-MISC, is: I-MISC, dus: I-MISC, ook: I-MISC, best: I-MISC, wel: I-MISC, groot: I-MISC, .: I-MISC, Ik: I-MISC, ben: I-MISC, best: I-MISC, wel: I-MISC, meisjesachtig: I-MISC, ,: I-MISC, dus: I-MISC, mijn: I-MISC, kamer: I-MISC, is: I-MISC, ook: I-MISC, erg: I-MISC, meisjesachtig: I-MISC, .: I-MISC, Mijn: I-MISC, muren: I-MISC, zijn: I-MISC, geverfd: I-MISC, in: I-MISC, verschillende: I-MISC, tinten: I-MISC, roze: I-MISC, .: I-MISC, Verder: I-MISC, heb: I-MISC, ik: I-MISC, paarse: I-MISC, vloerbedekking: I-MISC, .: I-MISC, Mijn: I-MISC, bed: I-MISC, neemt: I-MISC, veel: I-MISC, ruimte: I-MISC, in: I-MISC, .: I-MISC, Maar: I-MISC, ook: I-MISC, mijn: I-MISC, kledingkast: I-MISC, is: I-MISC, erg: I-MISC, groot: I-MISC, .: I-MISC, Dat: I-MISC, komt: I-MISC, omdat: I-MISC, ik: I-MISC, enorm: I-MISC, veel: I-MISC, van: I-MISC, winkelen: I-MISC, houd: I-MISC, .: I-MISC, Ik: I-MISC, heb: I-MISC, dus: I-MISC, enorm: I-MISC, veel: I-MISC, kleding: I-MISC, .: I-MISC, Verder: I-MISC, heb: I-MISC, ik: I-MISC, ook: I-MISC, een: I-MISC, groot: I-MISC, bureau: I-MISC, ,: I-MISC, omdat: I-MISC, ik: I-MISC, veel: I-MISC, huiswerk: I-MISC, moet: I-MISC, maken: I-MISC, .: I-MISC, Later: I-MISC, wil: I-MISC, ik: I-MISC, dierenarts: I-MISC, worden: I-MISC, dus: I-MISC, ik: I-MISC, moet: I-MISC, veel: I-MISC, lezen: I-MISC, .: I-MISC, Ellen: I-MISC, woont: I-MISC, in: I-MISC, Canada: I-MISC, en: I-MISC, ze: I-MISC, gaat: I-MISC, op: I-MISC, vakantie: I-MISC, naar: I-MISC, Europa: I-MISC, .: I-MISC, De: I-MISC, vliegreis: I-MISC, naar: I-MISC, Europa: I-MISC, duurt: I-MISC, ruim: I-MISC, zeven: I-MISC, uur: I-MISC, .: I-MISC, Ellen: I-MISC, bezoekt: I-MISC, Duitsland: I-MISC, ,: I-MISC, Zwitserland: I-MISC, ,: I-MISC, Hongarije: I-MISC, ,: I-MISC, Spanje: I-MISC, en: I-MISC, Frankrijk: I-MISC, .: I-MISC, In: I-MISC, de: I-MISC, laatste: I-MISC, week: I-MISC, van: I-MISC, haar: I-MISC, vakantie: I-MISC, reist: I-MISC, ze: I-MISC, met: I-MISC, de: I-MISC, trein: I-MISC, van: I-MISC, Parijs: I-MISC, naar: I-MISC, Nederland: I-MISC, .: I-MISC, Ze: I-MISC, gaat: I-MISC, naar: I-MISC, Volendam: I-MISC, en: I-MISC, Delft: I-MISC, .: I-MISC, Ze: I-MISC, gaat: I-MISC, ook: I-MISC, een: I-MISC, dag: I-MISC, naar: I-MISC, Amsterdam: I-MISC, .: I-MISC, Ellen: I-MISC, huurt: I-MISC, een: I-MISC, fiets: I-MISC, in: I-MISC, Amsterdam: I-MISC, .: I-MISC, Ze: I-MISC, wil: I-MISC, graag: I-MISC, een: I-MISC, musea: I-MISC, bezoeken: I-MISC, want: I-MISC, ze: I-MISC, houdt: I-MISC, van: I-MISC, kunst: I-MISC, .: I-MISC, Eerst: I-MISC, bezoekt: I-MISC, ze: I-MISC, het: I-MISC, Rijksmuseum: I-MISC, op: I-MISC, het: I-MISC, Museumplein: I-MISC, .: I-MISC, Van: I-MISC, alle: I-MISC, schilderijen: I-MISC, van: I-MISC, de: I-MISC, kunstenaar: I-MISC, Rembrandt: I-MISC, van: I-MISC, Rijn: I-MISC, vindt: I-MISC, ze: I-MISC, De: I-MISC, Nachtwacht: I-MISC, het: I-MISC, mooiste: I-MISC, .: I-MISC, Het: I-MISC, is: I-MISC, een: I-MISC, heel: I-MISC, groot: I-MISC, schilderij: I-MISC, .: I-MISC, Hij: I-MISC, schilderde: I-MISC, De: I-MISC, Nachtwacht: I-MISC, in: I-MISC, Het: I-MISC, Rembrandthuis: I-MISC, .: O, Het: B-MISC, Rembrandthuis: I-MISC, is: I-MISC, nu: I-MISC, ook: I-MISC, een: I-MISC, museum: I-MISC, .: I-MISC, Vroeger: I-MISC, woonde: I-MISC, Rembrandt: I-MISC, van: I-MISC, Rijn: I-MISC, in: I-MISC, dat: I-MISC, gebouw: I-MISC, .: I-MISC, 's: I-MISC, Middags: I-MISC, fietst: I-MISC, Ellen: I-MISC, naar: I-MISC, het: I-MISC, Stedelijk: I-MISC, Museum: I-MISC, en: I-MISC, bekijkt: I-MISC, er: I-MISC, moderne: I-MISC, kunst: I-MISC, .: I-MISC, In: I-MISC, het: I-MISC, Van: I-MISC, Gogh: I-MISC, Museum: I-MISC, ziet: I-MISC, ze: I-MISC, de: I-MISC, schilderijen: I-MISC, van: I-MISC, Vincent: I-MISC, van: I-MISC, Gogh: I-MISC, .: I-MISC, Die: I-MISC, vindt: I-MISC, ze: I-MISC, ook: I-MISC, heel: I-MISC, erg: I-MISC, mooi: I-MISC, .: I-MISC, Pas: I-MISC, laat: I-MISC, in: I-MISC, de: I-MISC, middag: I-MISC, gaat: I-MISC, ze: I-MISC, toch: I-MISC, nog: I-MISC, even: I-MISC, naar: I-MISC, Artis: I-MISC, .: I-MISC, Dat: I-MISC, is: I-MISC, een: I-MISC, dierentuin: I-MISC, in: I-MISC, Amsterdam: I-MISC, .: I-MISC, Ellen: I-MISC, ziet: I-MISC, er: I-MISC, allerlei: I-MISC, dieren: I-MISC, ,: I-MISC, zoals: I-MISC, apen: I-MISC, ,: I-MISC, giraffes: I-MISC, en: I-MISC, krokodillen: I-MISC, .: I-MISC, Aan: I-MISC, het: I-MISC, eind: I-MISC, van: I-MISC, de: I-MISC, dag: I-MISC, brengt: I-MISC, Ellen: I-MISC, de: I-MISC, fiets: I-MISC, terug: I-MISC, .: I-MISC, Ze: I-MISC, gaat: I-MISC, met: I-MISC, de: I-MISC, tram: I-MISC, naar: I-MISC, haar: I-MISC, hotel: I-MISC, .: I-MISC, "
     ]
    }
   ],
   "source": [
    "feature_getter_pos = FeatureGetterPOS()\n",
    "\n",
    "# Creem i configurem el CRFTagger per a neerlandés\n",
    "ct_ned = CRFTagger(feature_func=feature_getter_pos.get_features)\n",
    "ct_ned.set_model_file('model.crf.tagger_BIO_ned')\n",
    "\n",
    "# Realitzem la predicció de les etiquetes POS\n",
    "y_pred = ct_ned.tag(tokens_ned)\n",
    "\n",
    "# Extreiem les entitats de la predicció\n",
    "entities = extract_entities(y_pred)\n",
    "\n",
    "# Imprimim els tokens amb les seves etiquetes POS\n",
    "print(\"Tokens etiquetats:\")\n",
    "for token, tag in y_pred:\n",
    "    print(f\"{token}: {tag}, \", end='')"
   ]
  }
 ],
 "metadata": {
  "kernelspec": {
   "display_name": "Python 3",
   "language": "python",
   "name": "python3"
  },
  "language_info": {
   "codemirror_mode": {
    "name": "ipython",
    "version": 3
   },
   "file_extension": ".py",
   "mimetype": "text/x-python",
   "name": "python",
   "nbconvert_exporter": "python",
   "pygments_lexer": "ipython3",
   "version": "3.11.4"
  }
 },
 "nbformat": 4,
 "nbformat_minor": 2
}
