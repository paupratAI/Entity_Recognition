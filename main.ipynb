{
 "cells": [
  {
   "cell_type": "markdown",
   "metadata": {},
   "source": [
    "# Pràctica 3 - PLH"
   ]
  },
  {
   "cell_type": "markdown",
   "metadata": {},
   "source": [
    "### Realitzada pels alumnes Lluc Furriols i Pau Prat Moreno"
   ]
  },
  {
   "cell_type": "code",
   "execution_count": 59,
   "metadata": {},
   "outputs": [
    {
     "data": {
      "text/plain": [
       "'\\nimport os \\nf = open(\"/dev/null\", \"w\")\\nos.dup2(f.fileno(), 2)\\nf.close()\\n\\nimport nltk\\nimport ssl\\n\\ntry:\\n    _create_unverified_https_context = ssl._create_unverified_context\\nexcept AttributeError:\\n    pass\\nelse:\\n    ssl._create_default_https_context = _create_unverified_https_context\\n\\nnltk.download()\\n'"
      ]
     },
     "execution_count": 59,
     "metadata": {},
     "output_type": "execute_result"
    }
   ],
   "source": [
    "'''\n",
    "import os \n",
    "f = open(\"/dev/null\", \"w\")\n",
    "os.dup2(f.fileno(), 2)\n",
    "f.close()\n",
    "\n",
    "import nltk\n",
    "import ssl\n",
    "\n",
    "try:\n",
    "    _create_unverified_https_context = ssl._create_unverified_context\n",
    "except AttributeError:\n",
    "    pass\n",
    "else:\n",
    "    ssl._create_default_https_context = _create_unverified_https_context\n",
    "\n",
    "nltk.download()\n",
    "'''"
   ]
  },
  {
   "cell_type": "code",
   "execution_count": 60,
   "metadata": {},
   "outputs": [
    {
     "data": {
      "text/plain": [
       "True"
      ]
     },
     "execution_count": 60,
     "metadata": {},
     "output_type": "execute_result"
    }
   ],
   "source": [
    "import nltk\n",
    "nltk.download('punkt', quiet=True) # Tokenitzador\n",
    "nltk.download('averaged_perceptron_tagger', quiet=True) # Etiquetador POS\n",
    "nltk.download('maxent_ne_chunker', quiet=True) # Etiquetador Entitats Anomenades\n",
    "nltk.download('words', quiet=True)"
   ]
  },
  {
   "cell_type": "code",
   "execution_count": 61,
   "metadata": {},
   "outputs": [
    {
     "data": {
      "text/plain": [
       "'\\nclass FeatureGetter:\\n    def __init__(ws_cap, ws_prefix,...):\\n        self.ws_cap = ws_cap\\n        self.ws_prefix = ws_prefix\\n        ...\\n    def __call__(self, token, idx):\\n        pass\\ngetter_1 = FeatureGetter(ws_cap=True, ws_prefix=False, ...)\\n'"
      ]
     },
     "execution_count": 61,
     "metadata": {},
     "output_type": "execute_result"
    }
   ],
   "source": [
    "# Fet pel profe a la pissarra\n",
    "'''\n",
    "class FeatureGetter:\n",
    "    def __init__(ws_cap, ws_prefix,...):\n",
    "        self.ws_cap = ws_cap\n",
    "        self.ws_prefix = ws_prefix\n",
    "        ...\n",
    "    def __call__(self, token, idx):\n",
    "        pass\n",
    "getter_1 = FeatureGetter(ws_cap=True, ws_prefix=False, ...)\n",
    "'''"
   ]
  },
  {
   "cell_type": "code",
   "execution_count": 62,
   "metadata": {},
   "outputs": [
    {
     "name": "stderr",
     "output_type": "stream",
     "text": [
      "[nltk_data] Downloading package conll2002 to\n",
      "[nltk_data]     C:\\Users\\llucfurriols\\AppData\\Roaming\\nltk_data...\n",
      "[nltk_data]   Package conll2002 is already up-to-date!\n"
     ]
    }
   ],
   "source": [
    "nltk.download('conll2002')\n",
    "from nltk.corpus import conll2002\n",
    "\n",
    "train_esp = conll2002.iob_sents('esp.train') # Train, \n",
    "val_esp = conll2002.iob_sents('esp.testa') # Val\n",
    "test_esp = conll2002.iob_sents('esp.testb') # Test\n",
    "\n",
    "train_ned = conll2002.iob_sents('ned.train') # Train\n",
    "val_ned = conll2002.iob_sents('ned.testa') # Val\n",
    "test_ned = conll2002.iob_sents('ned.testb') # Test\n",
    "\n",
    "# Convertir token postag classe --> postag classe (crec, ha dit 2)"
   ]
  },
  {
   "cell_type": "code",
   "execution_count": 63,
   "metadata": {},
   "outputs": [
    {
     "data": {
      "text/plain": [
       "[[('Melbourne', 'NP', 'B-LOC'), ('(', 'Fpa', 'O'), ('Australia', 'NP', 'B-LOC'), (')', 'Fpt', 'O'), (',', 'Fc', 'O'), ('25', 'Z', 'O'), ('may', 'NC', 'O'), ('(', 'Fpa', 'O'), ('EFE', 'NC', 'B-ORG'), (')', 'Fpt', 'O'), ('.', 'Fp', 'O')], [('-', 'Fg', 'O')], ...]"
      ]
     },
     "execution_count": 63,
     "metadata": {},
     "output_type": "execute_result"
    }
   ],
   "source": [
    "train_esp"
   ]
  },
  {
   "cell_type": "code",
   "execution_count": 64,
   "metadata": {},
   "outputs": [
    {
     "data": {
      "text/plain": [
       "\"def feature_func(tokens, idx):\\n    \\n    Feature function for CRF NER\\n    :param tokens: a list of tuples, each tuple containing (word, pos, iob_tag)\\n    :param idx: the index of the word\\n    \\n    # Inicialitzar el diccionari de característiques\\n    word, pos, iob_tag = tokens[idx]\\n    features = {\\n        'word': word,\\n        'word.lower()': word.lower(),\\n        'is_first': idx == 0,\\n        'is_last': idx == len(tokens) - 1,\\n        'is_capitalized': word[0].upper() == word[0],\\n        'is_all_caps': word.upper() == word,\\n        'is_all_lower': word.lower() == word,\\n        'prefix-1': word[0] if len(word) > 0 else '',\\n        'prefix-2': word[:2] if len(word) > 1 else '',\\n        'prefix-3': word[:3] if len(word) > 2 else '',\\n        'suffix-1': word[-1] if len(word) > 0 else '',\\n        'suffix-2': word[-2:] if len(word) > 1 else '',\\n        'suffix-3': word[-3:] if len(word) > 2 else '',\\n        'prev_word': '' if idx == 0 else tokens[idx - 1][0],\\n        'next_word': '' if idx == len(tokens) - 1 else tokens[idx + 1][0],\\n        'has_hyphen': '-' in word,\\n        'is_numeric': word.isdigit(),\\n        'pos': pos,\\n        'pos_prefix-2': pos[:2],\\n        'pos_prefix-3': pos[:3],\\n        'iob_tag': iob_tag\\n    }\\n    \\n    # Característiques de la paraula anterior\\n    if idx > 0:\\n        prev_word, prev_pos, prev_iob_tag = tokens[idx - 1]\\n        features.update({\\n            'prev_word': prev_word,\\n            'prev_word.lower()': prev_word.lower(),\\n            'prev_word.is_capitalized': prev_word[0].upper() == prev_word[0],\\n            'prev_pos': prev_pos,\\n            'prev_iob_tag': prev_iob_tag\\n        })\\n    else:\\n        features['BOS'] = True  # Indicador de començament de sentència\\n    \\n    # Característiques de la paraula següent\\n    if idx < len(tokens) - 1:\\n        next_word, next_pos, next_iob_tag = tokens[idx + 1]\\n        features.update({\\n            'next_word': next_word,\\n            'next_word.lower()': next_word.lower(),\\n            'next_word.is_capitalized': next_word[0].upper() == next_word[0],\\n            'next_pos': next_pos,\\n            'next_iob_tag': next_iob_tag\\n        })\\n    else:\\n        features['EOS'] = True  # Indicador de final de sentència\\n\\n    return features\\n\""
      ]
     },
     "execution_count": 64,
     "metadata": {},
     "output_type": "execute_result"
    }
   ],
   "source": [
    "\"\"\"def feature_func(tokens, idx):\n",
    "    \n",
    "    Feature function for CRF NER\n",
    "    :param tokens: a list of tuples, each tuple containing (word, pos, iob_tag)\n",
    "    :param idx: the index of the word\n",
    "    \n",
    "    # Inicialitzar el diccionari de característiques\n",
    "    word, pos, iob_tag = tokens[idx]\n",
    "    features = {\n",
    "        'word': word,\n",
    "        'word.lower()': word.lower(),\n",
    "        'is_first': idx == 0,\n",
    "        'is_last': idx == len(tokens) - 1,\n",
    "        'is_capitalized': word[0].upper() == word[0],\n",
    "        'is_all_caps': word.upper() == word,\n",
    "        'is_all_lower': word.lower() == word,\n",
    "        'prefix-1': word[0] if len(word) > 0 else '',\n",
    "        'prefix-2': word[:2] if len(word) > 1 else '',\n",
    "        'prefix-3': word[:3] if len(word) > 2 else '',\n",
    "        'suffix-1': word[-1] if len(word) > 0 else '',\n",
    "        'suffix-2': word[-2:] if len(word) > 1 else '',\n",
    "        'suffix-3': word[-3:] if len(word) > 2 else '',\n",
    "        'prev_word': '' if idx == 0 else tokens[idx - 1][0],\n",
    "        'next_word': '' if idx == len(tokens) - 1 else tokens[idx + 1][0],\n",
    "        'has_hyphen': '-' in word,\n",
    "        'is_numeric': word.isdigit(),\n",
    "        'pos': pos,\n",
    "        'pos_prefix-2': pos[:2],\n",
    "        'pos_prefix-3': pos[:3],\n",
    "        'iob_tag': iob_tag\n",
    "    }\n",
    "    \n",
    "    # Característiques de la paraula anterior\n",
    "    if idx > 0:\n",
    "        prev_word, prev_pos, prev_iob_tag = tokens[idx - 1]\n",
    "        features.update({\n",
    "            'prev_word': prev_word,\n",
    "            'prev_word.lower()': prev_word.lower(),\n",
    "            'prev_word.is_capitalized': prev_word[0].upper() == prev_word[0],\n",
    "            'prev_pos': prev_pos,\n",
    "            'prev_iob_tag': prev_iob_tag\n",
    "        })\n",
    "    else:\n",
    "        features['BOS'] = True  # Indicador de començament de sentència\n",
    "    \n",
    "    # Característiques de la paraula següent\n",
    "    if idx < len(tokens) - 1:\n",
    "        next_word, next_pos, next_iob_tag = tokens[idx + 1]\n",
    "        features.update({\n",
    "            'next_word': next_word,\n",
    "            'next_word.lower()': next_word.lower(),\n",
    "            'next_word.is_capitalized': next_word[0].upper() == next_word[0],\n",
    "            'next_pos': next_pos,\n",
    "            'next_iob_tag': next_iob_tag\n",
    "        })\n",
    "    else:\n",
    "        features['EOS'] = True  # Indicador de final de sentència\n",
    "\n",
    "    return features\n",
    "\"\"\""
   ]
  },
  {
   "cell_type": "code",
   "execution_count": 65,
   "metadata": {},
   "outputs": [
    {
     "data": {
      "text/plain": [
       "\"def word2features(sent, i):\\n    word = sent[i][0]\\n    postag = sent[i][1]\\n\\n    features = {\\n        'bias': 1.0,\\n        'word.lower()': word.lower(),\\n        'word[-3:]': word[-3:],\\n        'word.isupper()': word.isupper(),\\n        'word.istitle()': word.istitle(),\\n        'word.isdigit()': word.isdigit(),\\n        'postag': postag,\\n        'postag[:2]': postag[:2],\\n    }\\n    if i > 0:\\n        word1 = sent[i-1][0]\\n        postag1 = sent[i-1][1]\\n        features.update({\\n            '-1:word.lower()': word1.lower(),\\n            '-1:word.istitle()': word1.istitle(),\\n            '-1:word.isupper()': word1.isupper(),\\n            '-1:postag': postag1,\\n            '-1:postag[:2]': postag1[:2],\\n        })\\n    else:\\n        features['BOS'] = True\\n\\n    if i < len(sent)-1:\\n        word1 = sent[i+1][0]\\n        postag1 = sent[i+1][1]\\n        features.update({\\n            '+1:word.lower()': word1.lower(),\\n            '+1:word.istitle()': word1.istitle(),\\n            '+1:word.isupper()': word1.isupper(),\\n            '+1:postag': postag1,\\n            '+1:postag[:2]': postag1[:2],\\n        })\\n    else:\\n        features['EOS'] = True\\n\\n    return features\\n\\n\\ndef sent2features(sent):\\n    return [word2features(sent, i) for i in range(len(sent))]\\n\\ndef sent2labels(sent):\\n    return [label for token, postag, label in sent]\\n\\ndef sent2tokens(sent):\\n    return [token for token, postag, label in sent]\\n\\nX_train = [sent2features(s) for s in train_esp]\\ny_train = [sent2labels(s) for s in train_esp]\\n\\nX_test = [sent2features(s) for s in test_esp]\\ny_test = [sent2labels(s) for s in test_esp]\""
      ]
     },
     "execution_count": 65,
     "metadata": {},
     "output_type": "execute_result"
    }
   ],
   "source": [
    "\"\"\"def word2features(sent, i):\n",
    "    word = sent[i][0]\n",
    "    postag = sent[i][1]\n",
    "\n",
    "    features = {\n",
    "        'bias': 1.0,\n",
    "        'word.lower()': word.lower(),\n",
    "        'word[-3:]': word[-3:],\n",
    "        'word.isupper()': word.isupper(),\n",
    "        'word.istitle()': word.istitle(),\n",
    "        'word.isdigit()': word.isdigit(),\n",
    "        'postag': postag,\n",
    "        'postag[:2]': postag[:2],\n",
    "    }\n",
    "    if i > 0:\n",
    "        word1 = sent[i-1][0]\n",
    "        postag1 = sent[i-1][1]\n",
    "        features.update({\n",
    "            '-1:word.lower()': word1.lower(),\n",
    "            '-1:word.istitle()': word1.istitle(),\n",
    "            '-1:word.isupper()': word1.isupper(),\n",
    "            '-1:postag': postag1,\n",
    "            '-1:postag[:2]': postag1[:2],\n",
    "        })\n",
    "    else:\n",
    "        features['BOS'] = True\n",
    "\n",
    "    if i < len(sent)-1:\n",
    "        word1 = sent[i+1][0]\n",
    "        postag1 = sent[i+1][1]\n",
    "        features.update({\n",
    "            '+1:word.lower()': word1.lower(),\n",
    "            '+1:word.istitle()': word1.istitle(),\n",
    "            '+1:word.isupper()': word1.isupper(),\n",
    "            '+1:postag': postag1,\n",
    "            '+1:postag[:2]': postag1[:2],\n",
    "        })\n",
    "    else:\n",
    "        features['EOS'] = True\n",
    "\n",
    "    return features\n",
    "\n",
    "\n",
    "def sent2features(sent):\n",
    "    return [word2features(sent, i) for i in range(len(sent))]\n",
    "\n",
    "def sent2labels(sent):\n",
    "    return [label for token, postag, label in sent]\n",
    "\n",
    "def sent2tokens(sent):\n",
    "    return [token for token, postag, label in sent]\n",
    "\n",
    "X_train = [sent2features(s) for s in train_esp]\n",
    "y_train = [sent2labels(s) for s in train_esp]\n",
    "\n",
    "X_test = [sent2features(s) for s in test_esp]\n",
    "y_test = [sent2labels(s) for s in test_esp]\"\"\""
   ]
  },
  {
   "cell_type": "code",
   "execution_count": 66,
   "metadata": {},
   "outputs": [
    {
     "data": {
      "text/plain": [
       "[[('La', 'DA', 'B-LOC'), ('Coruña', 'NC', 'I-LOC'), (',', 'Fc', 'O'), ('23', 'Z', 'O'), ('may', 'NC', 'O'), ('(', 'Fpa', 'O'), ('EFECOM', 'NP', 'B-ORG'), (')', 'Fpt', 'O'), ('.', 'Fp', 'O')], [('-', 'Fg', 'O')], ...]"
      ]
     },
     "execution_count": 66,
     "metadata": {},
     "output_type": "execute_result"
    }
   ],
   "source": [
    "test_esp"
   ]
  },
  {
   "cell_type": "code",
   "execution_count": 67,
   "metadata": {},
   "outputs": [],
   "source": [
    "def getfeatures(doc):\n",
    "    return [[((word, pos), iob) for word, pos, iob in sent] for sent in doc]"
   ]
  },
  {
   "cell_type": "code",
   "execution_count": 68,
   "metadata": {},
   "outputs": [],
   "source": [
    "def quitpostag(doc):\n",
    "    return [[(word, iob) for word, pos, iob in sent] for sent in doc]"
   ]
  },
  {
   "cell_type": "code",
   "execution_count": 69,
   "metadata": {},
   "outputs": [],
   "source": [
    "#%pip install sklearn-pycrfsuite"
   ]
  },
  {
   "cell_type": "code",
   "execution_count": 70,
   "metadata": {},
   "outputs": [],
   "source": [
    "#%pip install python-crfsuite"
   ]
  },
  {
   "cell_type": "code",
   "execution_count": 72,
   "metadata": {},
   "outputs": [
    {
     "name": "stdout",
     "output_type": "stream",
     "text": [
      "[('Melbourne', 'B-LOC'), ('(', 'O'), ('Australia', 'B-LOC'), (')', 'O'), (',', 'O'), ('25', 'O'), ('may', 'O'), ('(', 'O'), ('EFE', 'B-ORG'), (')', 'O'), ('.', 'O')]\n",
      "['B-LOC', 'I-LOC', 'O', 'O', 'O', 'O', 'B-ORG', 'O', 'O']\n",
      "['B-LOC', 'I-LOC', 'O', 'O', 'O', 'O', 'B-ORG', 'O', 'O']\n"
     ]
    },
    {
     "data": {
      "image/png": "[encoded data removed]",
      "text/plain": [
       "<Figure size 720x504 with 2 Axes>"
      ]
     },
     "metadata": {
      "needs_background": "light"
     },
     "output_type": "display_data"
    },
    {
     "name": "stdout",
     "output_type": "stream",
     "text": [
      "              precision    recall  f1-score   support\n",
      "\n",
      "       B-LOC       0.75      0.69      0.72      1084\n",
      "      B-MISC       0.74      0.45      0.56       339\n",
      "       B-ORG       0.78      0.81      0.79      1400\n",
      "       B-PER       0.78      0.79      0.78       735\n",
      "       I-LOC       0.60      0.54      0.57       325\n",
      "      I-MISC       0.53      0.47      0.50       557\n",
      "       I-ORG       0.79      0.79      0.79      1104\n",
      "       I-PER       0.83      0.94      0.88       634\n",
      "           O       0.99      0.99      0.99     45355\n",
      "\n",
      "    accuracy                           0.96     51533\n",
      "   macro avg       0.76      0.72      0.73     51533\n",
      "weighted avg       0.96      0.96      0.96     51533\n",
      "\n"
     ]
    },
    {
     "data": {
      "text/plain": [
       "0.9624706498748374"
      ]
     },
     "execution_count": 72,
     "metadata": {},
     "output_type": "execute_result"
    }
   ],
   "source": [
    "from nltk.tag import CRFTagger\n",
    "import pycrfsuite\n",
    "\n",
    "ct = CRFTagger(feature_func=None)\n",
    "#train and test sets without the postag\n",
    "train_esp_bio = quitpostag(train_esp)\n",
    "test_esp_bio = quitpostag(test_esp)\n",
    "print(train_esp_bio[0])\n",
    "\n",
    "#y_test is the true labels\n",
    "y_test = [[iob for word, iob in sent] for sent in test_esp_bio]\n",
    "print(y_test[0])\n",
    "\n",
    "#train the model\n",
    "ct.train(train_esp_bio, 'model.crf.tagger')\n",
    "\n",
    "#predict the labels\n",
    "y_pred = ct.tag_sents([[word for word, iob in sent] for sent in test_esp_bio])\n",
    "y_pred = [[iob for word, iob in sent] for sent in y_pred]\n",
    "print(y_pred[0])\n",
    "\n",
    "\n",
    "#show the confusion matrix\n",
    "from sklearn.metrics import confusion_matrix\n",
    "import numpy as np\n",
    "import matplotlib.pyplot as plt\n",
    "import seaborn as sns\n",
    "# Flatten y_test and y_pred\n",
    "y_test_flat = [iob for sent in y_test for iob in sent]\n",
    "y_pred_flat = [iob for sent in y_pred for iob in sent]\n",
    "\n",
    "# Generate confusion matrix\n",
    "cm = confusion_matrix(y_test_flat, y_pred_flat)\n",
    "\n",
    "# Visualize confusion matrix\n",
    "plt.figure(figsize=(10,7))\n",
    "sns.heatmap(cm, annot=True, fmt='d')\n",
    "plt.xlabel('Predicted')\n",
    "plt.ylabel('Truth')\n",
    "plt.show()\n",
    "\n",
    "#show the classification report\n",
    "from sklearn.metrics import classification_report\n",
    "print(classification_report(y_test_flat, y_pred_flat))\n",
    "ct.accuracy(test_esp_bio)"
   ]
  }
 ],
 "metadata": {
  "kernelspec": {
   "display_name": "Python 3",
   "language": "python",
   "name": "python3"
  },
  "language_info": {
   "codemirror_mode": {
    "name": "ipython",
    "version": 3
   },
   "file_extension": ".py",
   "mimetype": "text/x-python",
   "name": "python",
   "nbconvert_exporter": "python",
   "pygments_lexer": "ipython3",
   "version": "3.9.12"
  }
 },
 "nbformat": 4,
 "nbformat_minor": 2
}
