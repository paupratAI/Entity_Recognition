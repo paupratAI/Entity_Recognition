{
 "cells": [
  {
   "cell_type": "markdown",
   "metadata": {},
   "source": [
    "# Pràctica 3 - PLH"
   ]
  },
  {
   "cell_type": "markdown",
   "metadata": {},
   "source": [
    "### Realitzada pels alumnes Lluc Furriols i Pau Prat Moreno"
   ]
  },
  {
   "cell_type": "code",
   "execution_count": 2,
   "metadata": {},
   "outputs": [
    {
     "data": {
      "text/plain": [
       "'\\nimport os \\nf = open(\"/dev/null\", \"w\")\\nos.dup2(f.fileno(), 2)\\nf.close()\\n\\nimport nltk\\nimport ssl\\n\\ntry:\\n    _create_unverified_https_context = ssl._create_unverified_context\\nexcept AttributeError:\\n    pass\\nelse:\\n    ssl._create_default_https_context = _create_unverified_https_context\\n\\nnltk.download()\\n'"
      ]
     },
     "execution_count": 2,
     "metadata": {},
     "output_type": "execute_result"
    }
   ],
   "source": [
    "'''\n",
    "import os \n",
    "f = open(\"/dev/null\", \"w\")\n",
    "os.dup2(f.fileno(), 2)\n",
    "f.close()\n",
    "\n",
    "import nltk\n",
    "import ssl\n",
    "\n",
    "try:\n",
    "    _create_unverified_https_context = ssl._create_unverified_context\n",
    "except AttributeError:\n",
    "    pass\n",
    "else:\n",
    "    ssl._create_default_https_context = _create_unverified_https_context\n",
    "\n",
    "nltk.download()\n",
    "'''"
   ]
  },
  {
   "cell_type": "code",
   "execution_count": 1,
   "metadata": {},
   "outputs": [
    {
     "data": {
      "text/plain": [
       "True"
      ]
     },
     "execution_count": 1,
     "metadata": {},
     "output_type": "execute_result"
    }
   ],
   "source": [
    "import nltk\n",
    "nltk.download('punkt', quiet=True) # Tokenitzador\n",
    "nltk.download('averaged_perceptron_tagger', quiet=True) # Etiquetador POS\n",
    "nltk.download('maxent_ne_chunker', quiet=True) # Etiquetador Entitats Anomenades\n",
    "nltk.download('words', quiet=True)"
   ]
  },
  {
   "cell_type": "code",
   "execution_count": 2,
   "metadata": {},
   "outputs": [
    {
     "name": "stderr",
     "output_type": "stream",
     "text": [
      "[nltk_data] Downloading package conll2002 to\n",
      "[nltk_data]     C:\\Users\\Usuario\\AppData\\Roaming\\nltk_data...\n",
      "[nltk_data]   Package conll2002 is already up-to-date!\n"
     ]
    }
   ],
   "source": [
    "nltk.download('conll2002')\n",
    "from nltk.corpus import conll2002\n",
    "\n",
    "train_esp = conll2002.iob_sents('esp.train') # Train, \n",
    "val_esp = conll2002.iob_sents('esp.testa') # Val\n",
    "test_esp = conll2002.iob_sents('esp.testb') # Test\n",
    "\n",
    "train_ned = conll2002.iob_sents('ned.train') # Train\n",
    "val_ned = conll2002.iob_sents('ned.testa') # Val\n",
    "test_ned = conll2002.iob_sents('ned.testb') # Test"
   ]
  },
  {
   "cell_type": "code",
   "execution_count": 3,
   "metadata": {},
   "outputs": [
    {
     "data": {
      "text/plain": [
       "[[('Melbourne', 'NP', 'B-LOC'), ('(', 'Fpa', 'O'), ('Australia', 'NP', 'B-LOC'), (')', 'Fpt', 'O'), (',', 'Fc', 'O'), ('25', 'Z', 'O'), ('may', 'NC', 'O'), ('(', 'Fpa', 'O'), ('EFE', 'NC', 'B-ORG'), (')', 'Fpt', 'O'), ('.', 'Fp', 'O')], [('-', 'Fg', 'O')], ...]"
      ]
     },
     "execution_count": 3,
     "metadata": {},
     "output_type": "execute_result"
    }
   ],
   "source": [
    "train_esp"
   ]
  },
  {
   "cell_type": "code",
   "execution_count": 4,
   "metadata": {},
   "outputs": [],
   "source": [
    "def get_token_entity(sequence):\n",
    "    \"\"\"\n",
    "    Retorna una llista de llistes on cada llista interna conté tuples del token i la seva entitat.\n",
    "    \"\"\"\n",
    "    return [[(token, entity) for token, pos, entity in sentence] for sentence in sequence]"
   ]
  },
  {
   "cell_type": "code",
   "execution_count": 20,
   "metadata": {},
   "outputs": [
    {
     "name": "stdout",
     "output_type": "stream",
     "text": [
      "[(0, 0, 'LOC'), (4, 6, 'PER'), (9, 9, 'LOC')]\n"
     ]
    }
   ],
   "source": [
    "def extract_entities(tagged_words):\n",
    "    entities = []\n",
    "    current_entity = []\n",
    "    current_type = None\n",
    "    current_start_index = None  # Afegim una variable per guardar l'índex d'inici\n",
    "\n",
    "    for index, (word, tag) in enumerate(tagged_words):\n",
    "        if tag.startswith('B-'):  # Començament d'una nova entitat\n",
    "            if current_entity:  # Si hi havia una entitat en construcció, l'afegim abans de començar la nova\n",
    "                entities.append((current_start_index, index - 1, current_type))\n",
    "            current_entity = [word]  # Comencem una nova entitat\n",
    "            current_start_index = index  # Guardem l'índex d'inici de l'entitat actual\n",
    "            current_type = tag[2:]  # Guardem el tipus d'entitat sense el prefix B-\n",
    "        elif tag.startswith('I-') and current_type == tag[2:]:  # Continuació de la mateixa entitat\n",
    "            current_entity.append(word)\n",
    "        else:  # Si no és una continuació de la mateixa entitat o és 'O'\n",
    "            if current_entity:  # Finalitzem l'entitat actual si n'hi ha una\n",
    "                entities.append((current_start_index, index - 1, current_type))\n",
    "                current_entity = []\n",
    "                current_type = None\n",
    "            if tag == 'O':\n",
    "                continue\n",
    "            else:  # Codificació IO o canvi d'entitat amb I-\n",
    "                current_entity = [word]\n",
    "                current_start_index = index\n",
    "                current_type = tag[2:]  # Possible en cas de codificació IO\n",
    "\n",
    "    # Assegurar-se d'afegir l'última entitat si la llista no acaba en 'O'\n",
    "    if current_entity:\n",
    "        entities.append((current_start_index, index, current_type))\n",
    "\n",
    "    return entities\n",
    "\n",
    "# Exemple d'ús:\n",
    "tagged_words = [('Madrid', 'B-LOC'), ('es', 'O'), ('muy', 'O'), ('bonito', 'O'),\n",
    "                ('Juan', 'B-PER'), ('Carlos', 'I-PER'), ('Rivera', 'I-PER'), ('vive', 'O'),\n",
    "                ('en', 'O'), ('Barcelona', 'B-LOC')]\n",
    "\n",
    "entities = extract_entities(tagged_words)\n",
    "print(entities)\n"
   ]
  },
  {
   "cell_type": "code",
   "execution_count": 14,
   "metadata": {},
   "outputs": [
    {
     "name": "stdout",
     "output_type": "stream",
     "text": [
      "{'bias': 1.0, 'has_capitalization': True, 'has_digit': False, 'has_punctuation': False, 'all_caps': False, 'is_capitalized': True, 'prefix': 'Bar', 'suffix': 'ona'}\n"
     ]
    }
   ],
   "source": [
    "import string\n",
    "\n",
    "class FeatureGetter:\n",
    "    \"\"\"\n",
    "    Aquesta classe s'utilitza per obtenir diferents característiques d'un token de text.\n",
    "    \"\"\"\n",
    "    def __init__(self):\n",
    "        pass\n",
    "\n",
    "    def has_capitalization(self, token):\n",
    "        \"\"\"\n",
    "        Comprova si el token conté alguna lletra majúscula.\n",
    "        \"\"\"\n",
    "        return any(char.isupper() for char in token)\n",
    "\n",
    "    def has_digit(self, token):\n",
    "        \"\"\"\n",
    "        Comprova si el token conté algun dígit.\n",
    "        \"\"\"\n",
    "        return any(char.isdigit() for char in token)\n",
    "\n",
    "    def has_punctuation(self, token):\n",
    "        \"\"\"\n",
    "        Comprova si el token conté algun signe de puntuació.\n",
    "        \"\"\"\n",
    "        return any(char in string.punctuation for char in token)\n",
    "\n",
    "    def get_prefix(self, token, n=3):\n",
    "        \"\"\"\n",
    "        Obté el prefix del token amb una longitud de n caràcters.\n",
    "        \"\"\"\n",
    "        return token[:n] if len(token) > n else token\n",
    "\n",
    "    def get_suffix(self, token, n=3):\n",
    "        \"\"\"\n",
    "        Obté el sufix del token amb una longitud de n caràcters.\n",
    "        \"\"\"\n",
    "        return token[-n:] if len(token) > n else token\n",
    "\n",
    "    def all_caps(self, token):\n",
    "        \"\"\"\n",
    "        Comprova si totes les lletres del token són majúscules.\n",
    "        \"\"\"\n",
    "        return token.isupper()\n",
    "\n",
    "    def is_capitalized(self, token):\n",
    "        \"\"\"\n",
    "        Comprova si la primera lletra del token és majúscula.\n",
    "        \"\"\"\n",
    "        return token[0].isupper()\n",
    "\n",
    "    def get_features(self, token, add_prefix_suffix=True):\n",
    "        \"\"\"\n",
    "        Obté un diccionari amb les característiques del token.\n",
    "        \"\"\"\n",
    "        features = {\n",
    "            'bias': 1.0,\n",
    "            'has_capitalization': self.has_capitalization(token),\n",
    "            'has_digit': self.has_digit(token),\n",
    "            'has_punctuation': self.has_punctuation(token),\n",
    "            'all_caps': self.all_caps(token),\n",
    "            'is_capitalized': self.is_capitalized(token),\n",
    "        }\n",
    "\n",
    "        if add_prefix_suffix:\n",
    "            features['prefix'] = self.get_prefix(token)\n",
    "            features['suffix'] = self.get_suffix(token)\n",
    "\n",
    "        return features\n",
    "\n",
    "# Exemple d'ús:\n",
    "feature_getter = FeatureGetter()\n",
    "token_features = feature_getter.get_features('Barcelona')\n",
    "print(token_features)"
   ]
  },
  {
   "cell_type": "code",
   "execution_count": 7,
   "metadata": {},
   "outputs": [
    {
     "name": "stdout",
     "output_type": "stream",
     "text": [
      "[('Melbourne', 'B-LOC'), ('(', 'O'), ('Australia', 'B-LOC'), (')', 'O'), (',', 'O'), ('25', 'O'), ('may', 'O'), ('(', 'O'), ('EFE', 'B-ORG'), (')', 'O'), ('.', 'O')]\n",
      "['B-LOC', 'I-LOC', 'O', 'O', 'O', 'O', 'B-ORG', 'O', 'O']\n",
      "['B-LOC', 'I-LOC', 'O', 'O', 'O', 'O', 'B-ORG', 'O', 'O']\n"
     ]
    },
    {
     "data": {
      "image/png": "[encoded data removed]",
      "text/plain": [
       "<Figure size 1000x700 with 2 Axes>"
      ]
     },
     "metadata": {},
     "output_type": "display_data"
    },
    {
     "name": "stdout",
     "output_type": "stream",
     "text": [
      "              precision    recall  f1-score   support\n",
      "\n",
      "       B-LOC       0.74      0.68      0.71      1084\n",
      "      B-MISC       0.74      0.45      0.56       339\n",
      "       B-ORG       0.78      0.81      0.79      1400\n",
      "       B-PER       0.78      0.79      0.78       735\n",
      "       I-LOC       0.60      0.54      0.57       325\n",
      "      I-MISC       0.53      0.47      0.50       557\n",
      "       I-ORG       0.79      0.79      0.79      1104\n",
      "       I-PER       0.83      0.94      0.88       634\n",
      "           O       0.99      0.99      0.99     45355\n",
      "\n",
      "    accuracy                           0.96     51533\n",
      "   macro avg       0.75      0.72      0.73     51533\n",
      "weighted avg       0.96      0.96      0.96     51533\n",
      "\n"
     ]
    },
    {
     "data": {
      "text/plain": [
       "0.9622960045019696"
      ]
     },
     "execution_count": 7,
     "metadata": {},
     "output_type": "execute_result"
    }
   ],
   "source": [
    "'''from nltk.tag import CRFTagger\n",
    "import pycrfsuite\n",
    "\n",
    "ct = CRFTagger(feature_func=None)\n",
    "#train and test sets without the postag\n",
    "train_esp_bio = get_token_entity(train_esp)\n",
    "test_esp_bio = get_token_entity(test_esp)\n",
    "print(train_esp_bio[0])\n",
    "\n",
    "#y_test is the true labels\n",
    "y_test = [[iob for word, iob in sent] for sent in test_esp_bio]\n",
    "print(y_test[0])\n",
    "\n",
    "#train the model\n",
    "ct.train(train_esp_bio, 'model.crf.tagger')\n",
    "\n",
    "#predict the labels\n",
    "y_pred = ct.tag_sents([[word for word, iob in sent] for sent in test_esp_bio])\n",
    "y_pred = [[iob for word, iob in sent] for sent in y_pred]\n",
    "print(y_pred[0])\n",
    "\n",
    "\n",
    "#show the confusion matrix\n",
    "from sklearn.metrics import confusion_matrix\n",
    "import numpy as np\n",
    "import matplotlib.pyplot as plt\n",
    "import seaborn as sns\n",
    "# Flatten y_test and y_pred\n",
    "y_test_flat = [iob for sent in y_test for iob in sent]\n",
    "y_pred_flat = [iob for sent in y_pred for iob in sent]\n",
    "\n",
    "# Generate confusion matrix\n",
    "cm = confusion_matrix(y_test_flat, y_pred_flat)\n",
    "\n",
    "# Visualize confusion matrix\n",
    "plt.figure(figsize=(10,7))\n",
    "sns.heatmap(cm, annot=True, fmt='d')\n",
    "plt.xlabel('Predicted')\n",
    "plt.ylabel('Truth')\n",
    "plt.show()\n",
    "\n",
    "#show the classification report\n",
    "from sklearn.metrics import classification_report\n",
    "print(classification_report(y_test_flat, y_pred_flat))\n",
    "ct.accuracy(test_esp_bio)'''"
   ]
  }
 ],
 "metadata": {
  "kernelspec": {
   "display_name": "Python 3",
   "language": "python",
   "name": "python3"
  },
  "language_info": {
   "codemirror_mode": {
    "name": "ipython",
    "version": 3
   },
   "file_extension": ".py",
   "mimetype": "text/x-python",
   "name": "python",
   "nbconvert_exporter": "python",
   "pygments_lexer": "ipython3",
   "version": "3.11.4"
  }
 },
 "nbformat": 4,
 "nbformat_minor": 2
}
